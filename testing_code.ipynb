{
 "cells": [
  {
   "cell_type": "code",
   "execution_count": 10,
   "id": "2c4f6dab",
   "metadata": {},
   "outputs": [],
   "source": [
    "import os\n",
    "from dotenv import load_dotenv\n",
    "from google.oauth2.credentials import Credentials\n",
    "from google_auth_oauthlib.flow import InstalledAppFlow\n",
    "from googleapiclient.discovery import build\n",
    "load_dotenv()\n",
    "\n",
    "# SCOPES: Gmail read-only\n",
    "SCOPES = ['https://www.googleapis.com/auth/gmail.readonly']\n",
    "token_path = os.getenv(\"token_path\")\n",
    "credentials_path = os.getenv(\"credentials_path\")"
   ]
  },
  {
   "cell_type": "code",
   "execution_count": 11,
   "id": "748f85fc",
   "metadata": {},
   "outputs": [],
   "source": [
    "def authenticate_gmail():\n",
    "    creds = None\n",
    "    flow = InstalledAppFlow.from_client_secrets_file(credentials_path, SCOPES)\n",
    "    creds = flow.run_local_server(port=0)\n",
    "    service = build('gmail', 'v1', credentials=creds)\n",
    "    return service\n",
    "\n",
    "#service = authenticate_gmail()"
   ]
  },
  {
   "cell_type": "code",
   "execution_count": 70,
   "id": "2797cad8",
   "metadata": {},
   "outputs": [],
   "source": [
    "def get_message_metadata(service, user_id='me', max_results=5):\n",
    "    results = service.users().messages().list(userId=user_id, maxResults=max_results, q=\"after:2025/08/08\").execute()\n",
    "    messages = results.get('messages', [])\n",
    "\n",
    "    for _, msg in enumerate(messages):\n",
    "        msg_data = service.users().messages().get(userId=user_id, id=msg['id'], format='metadata', metadataHeaders=['Subject', 'From', 'Date']).execute()\n",
    "        headers = msg_data.get('payload', {}).get('headers', [])\n",
    "\n",
    "        email_info = {header['name']: header['value'] for header in headers if header['name'] in ['Subject', 'From', 'Date']}\n",
    "        print(f\"From: {email_info.get('From')}\")\n",
    "        print(f\"Subject: {email_info.get('Subject')}\")\n",
    "        print(f\"Date: {email_info.get('Date')}\")"
   ]
  },
  {
   "cell_type": "code",
   "execution_count": 72,
   "id": "c83192f0",
   "metadata": {},
   "outputs": [],
   "source": [
    "# import json, collections\n",
    "\n",
    "# out_dict=collections.defaultdict(list) #dict to store the relevant information\n",
    "    \n",
    "# for msg in l[0]:\n",
    "#     start_time = time.time()\n",
    "#     msg_data = service.users().messages().get(userId=\"me\", id=msg[\"id\"], format=\"full\").execute()\n",
    "\n",
    "#     payload = msg_data.get(\"payload\", {})\n",
    "#     # subject, sender = extract_headers(payload)\n",
    "#     # body_text = decode_body(payload, prefer_plain=True).strip()\n",
    "\n",
    "#     # print(f\"\\n--- Email ---\")\n",
    "#     # print(f\"From: {sender}\")\n",
    "#     # print(f\"Subject: {subject}\")\n",
    "#     # print(f\"Body:\\n{body_text}\")\n",
    "#     print(f\"[Thread] >> Time taken: {time.time() - start_time:.4f} sec.\")\n",
    "#     out_dict[\"ID\"].append(msg_data[\"id\"])\n",
    "#     out_dict[\"payload\"].append(payload)\n"
   ]
  },
  {
   "cell_type": "code",
   "execution_count": null,
   "id": "4c1da765",
   "metadata": {},
   "outputs": [],
   "source": [
    "\n",
    "import json, gzip, msgspec\n",
    "path = \"\"\n",
    "#Decompress and load\n",
    "with gzip.open(path, 'rb') as f:\n",
    "    decompressed_bytes = f.read()\n",
    "decompressed_data = msgspec.msgpack.decode(decompressed_bytes)"
   ]
  },
  {
   "cell_type": "code",
   "execution_count": 38,
   "id": "25402739",
   "metadata": {},
   "outputs": [
    {
     "data": {
      "text/html": [
       "<div>\n",
       "<style scoped>\n",
       "    .dataframe tbody tr th:only-of-type {\n",
       "        vertical-align: middle;\n",
       "    }\n",
       "\n",
       "    .dataframe tbody tr th {\n",
       "        vertical-align: top;\n",
       "    }\n",
       "\n",
       "    .dataframe thead th {\n",
       "        text-align: right;\n",
       "    }\n",
       "</style>\n",
       "<table border=\"1\" class=\"dataframe\">\n",
       "  <thead>\n",
       "    <tr style=\"text-align: right;\">\n",
       "      <th></th>\n",
       "      <th>Id</th>\n",
       "      <th>Payload</th>\n",
       "    </tr>\n",
       "  </thead>\n",
       "  <tbody>\n",
       "    <tr>\n",
       "      <th>0</th>\n",
       "      <td>1988a27d97b70eb9</td>\n",
       "      <td>{'partId': '', 'mimeType': 'text/html', 'filen...</td>\n",
       "    </tr>\n",
       "    <tr>\n",
       "      <th>1</th>\n",
       "      <td>19889da880803c31</td>\n",
       "      <td>{'partId': '', 'mimeType': 'text/html', 'filen...</td>\n",
       "    </tr>\n",
       "    <tr>\n",
       "      <th>2</th>\n",
       "      <td>19889e5afc935b54</td>\n",
       "      <td>{'partId': '', 'mimeType': 'text/html', 'filen...</td>\n",
       "    </tr>\n",
       "    <tr>\n",
       "      <th>3</th>\n",
       "      <td>1988956b3768d400</td>\n",
       "      <td>{'partId': '', 'mimeType': 'text/html', 'filen...</td>\n",
       "    </tr>\n",
       "    <tr>\n",
       "      <th>4</th>\n",
       "      <td>19889da9160a50ec</td>\n",
       "      <td>{'partId': '', 'mimeType': 'text/html', 'filen...</td>\n",
       "    </tr>\n",
       "  </tbody>\n",
       "</table>\n",
       "</div>"
      ],
      "text/plain": [
       "                 Id                                            Payload\n",
       "0  1988a27d97b70eb9  {'partId': '', 'mimeType': 'text/html', 'filen...\n",
       "1  19889da880803c31  {'partId': '', 'mimeType': 'text/html', 'filen...\n",
       "2  19889e5afc935b54  {'partId': '', 'mimeType': 'text/html', 'filen...\n",
       "3  1988956b3768d400  {'partId': '', 'mimeType': 'text/html', 'filen...\n",
       "4  19889da9160a50ec  {'partId': '', 'mimeType': 'text/html', 'filen..."
      ]
     },
     "execution_count": 38,
     "metadata": {},
     "output_type": "execute_result"
    }
   ],
   "source": [
    "import pandas as pd\n",
    "df =pd.DataFrame(decompressed_data)\n",
    "df.head()"
   ]
  },
  {
   "cell_type": "code",
   "execution_count": null,
   "id": "b8dfef46",
   "metadata": {},
   "outputs": [
    {
     "name": "stdout",
     "output_type": "stream",
     "text": [
      "Size in MB: 0.07125568389892578\n"
     ]
    }
   ],
   "source": [
    "import sys\n",
    "size_in_bytes=sys.getsizeof(df)\n",
    "\n",
    "size_in_mb=size_in_bytes / (1024 * 1024)\n",
    "print(f\"Size in MB: {size_in_mb}\")"
   ]
  },
  {
   "cell_type": "code",
   "execution_count": null,
   "id": "86a2cfe3",
   "metadata": {},
   "outputs": [],
   "source": []
  }
 ],
 "metadata": {
  "kernelspec": {
   "display_name": "airflow-docker",
   "language": "python",
   "name": "python3"
  },
  "language_info": {
   "codemirror_mode": {
    "name": "ipython",
    "version": 3
   },
   "file_extension": ".py",
   "mimetype": "text/x-python",
   "name": "python",
   "nbconvert_exporter": "python",
   "pygments_lexer": "ipython3",
   "version": "3.12.11"
  }
 },
 "nbformat": 4,
 "nbformat_minor": 5
}

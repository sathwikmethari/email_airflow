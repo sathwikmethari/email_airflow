{
 "cells": [
  {
   "cell_type": "code",
   "execution_count": 10,
   "id": "2c4f6dab",
   "metadata": {},
   "outputs": [],
   "source": [
    "import os\n",
    "from dotenv import load_dotenv\n",
    "from google.oauth2.credentials import Credentials\n",
    "from google_auth_oauthlib.flow import InstalledAppFlow\n",
    "from googleapiclient.discovery import build\n",
    "load_dotenv()\n",
    "\n",
    "# SCOPES: Gmail read-only\n",
    "SCOPES = ['https://www.googleapis.com/auth/gmail.readonly']\n",
    "token_path = os.getenv(\"token_path\")\n",
    "credentials_path = os.getenv(\"credentials_path\")"
   ]
  },
  {
   "cell_type": "code",
   "execution_count": 70,
   "id": "2797cad8",
   "metadata": {},
   "outputs": [],
   "source": [
    "def get_message_metadata(service, user_id='me', max_results=5):\n",
    "    results = service.users().messages().list(userId=user_id, maxResults=max_results, q=\"after:2025/08/08\").execute()\n",
    "    messages = results.get('messages', [])\n",
    "\n",
    "    for _, msg in enumerate(messages):\n",
    "        msg_data = service.users().messages().get(userId=user_id, id=msg['id'], format='metadata', metadataHeaders=['Subject', 'From', 'Date']).execute()\n",
    "        headers = msg_data.get('payload', {}).get('headers', [])\n",
    "\n",
    "        email_info = {header['name']: header['value'] for header in headers if header['name'] in ['Subject', 'From', 'Date']}\n",
    "        print(f\"From: {email_info.get('From')}\")\n",
    "        print(f\"Subject: {email_info.get('Subject')}\")\n",
    "        print(f\"Date: {email_info.get('Date')}\")"
   ]
  },
  {
   "cell_type": "code",
   "execution_count": 17,
   "id": "4c1da765",
   "metadata": {},
   "outputs": [
    {
     "data": {
      "text/html": [
       "<div>\n",
       "<style scoped>\n",
       "    .dataframe tbody tr th:only-of-type {\n",
       "        vertical-align: middle;\n",
       "    }\n",
       "\n",
       "    .dataframe tbody tr th {\n",
       "        vertical-align: top;\n",
       "    }\n",
       "\n",
       "    .dataframe thead th {\n",
       "        text-align: right;\n",
       "    }\n",
       "</style>\n",
       "<table border=\"1\" class=\"dataframe\">\n",
       "  <thead>\n",
       "    <tr style=\"text-align: right;\">\n",
       "      <th></th>\n",
       "      <th>Id</th>\n",
       "      <th>Payload</th>\n",
       "    </tr>\n",
       "  </thead>\n",
       "  <tbody>\n",
       "    <tr>\n",
       "      <th>0</th>\n",
       "      <td>1988691375a9beb7</td>\n",
       "      <td>{'partId': '', 'mimeType': 'multipart/alternat...</td>\n",
       "    </tr>\n",
       "    <tr>\n",
       "      <th>1</th>\n",
       "      <td>19885fd9b18c5065</td>\n",
       "      <td>{'partId': '', 'mimeType': 'multipart/mixed', ...</td>\n",
       "    </tr>\n",
       "  </tbody>\n",
       "</table>\n",
       "</div>"
      ],
      "text/plain": [
       "                 Id                                            Payload\n",
       "0  1988691375a9beb7  {'partId': '', 'mimeType': 'multipart/alternat...\n",
       "1  19885fd9b18c5065  {'partId': '', 'mimeType': 'multipart/mixed', ..."
      ]
     },
     "execution_count": 17,
     "metadata": {},
     "output_type": "execute_result"
    }
   ],
   "source": [
    "import time, gzip, msgspec\n",
    "import pandas as pd\n",
    "path = \"C:/airflow-docker/data/15-08-2025-10-41.json.gz\"\n",
    "#Decompress and load\n",
    "with gzip.open(path, 'rb') as f:\n",
    "    decompressed_bytes = f.read()\n",
    "decompressed_data = msgspec.msgpack.decode(decompressed_bytes)\n",
    "\n",
    "df =pd.DataFrame(decompressed_data)\n",
    "df.head(2)"
   ]
  },
  {
   "cell_type": "code",
   "execution_count": 20,
   "id": "db4d706c",
   "metadata": {},
   "outputs": [
    {
     "name": "stdout",
     "output_type": "stream",
     "text": [
      "\n",
      "--- Email ---\n",
      "From: Braintrust <community@usebraintrust.com>\n",
      "Subject: Enhance Your Career with Braintrust's Career Help\n",
      "\n",
      "--- Email ---\n",
      "From: LeetCode <no-reply@leetcode.com>\n",
      "Subject: LeetCode Weekly Digest\n",
      "\n",
      "--- Email ---\n",
      "From: Kaggle <no-reply@kaggle.com>\n",
      "Subject: Competition Launch: Open Model Red-Teaming Challenge\n",
      "\n",
      "--- Email ---\n",
      "From: Naukri <info@naukri.com>\n",
      "Subject: Status of your job application has changed\n",
      "\n",
      "--- Email ---\n",
      "From: LinkedIn <linkedin@e.linkedin.com>\n",
      "Subject: Methari, enjoy 50% off LinkedIn Premium for 2 months\n",
      "\n",
      "--- Email ---\n",
      "From: Glassdoor Jobs <noreply@glassdoor.com>\n",
      "Subject: Data Engineer at Blackstraw and 12 more jobs in Chennai for you. Apply Now.\n",
      "\n",
      "--- Email ---\n",
      "From: Glassdoor Jobs <noreply@glassdoor.com>\n",
      "Subject: Ai/ml Excutive at Wellorgs Infotech Pvt. Ltd. and 12 more jobs in Remote, India for you. Apply Now.\n",
      "\n",
      "--- Email ---\n",
      "From: LinkedIn <jobs-noreply@linkedin.com>\n",
      "Subject: New jobs similar to Data Scientist at Tallento.ai\n",
      "\n",
      "--- Email ---\n",
      "From: Glassdoor Jobs <noreply@glassdoor.com>\n",
      "Subject: Data Scientist at Hanumant Technology Pvt. Ltd. Lucknow and 12 more jobs in India for you. Apply Now.\n",
      "\n",
      "--- Email ---\n",
      "From: LinkedIn <jobs-listings@linkedin.com>\n",
      "Subject: Dimitra Technology is hiring a Junior (Satellite/GIS) Data Scientist\n"
     ]
    }
   ],
   "source": [
    "from dags.utils import extract_headers, decode_body \n",
    "for payload in decompressed_data[\"Payload\"][:10]:\n",
    "    subject, sender = extract_headers(payload)\n",
    "    body_text = decode_body(payload, prefer_plain=True).strip()\n",
    "\n",
    "    print(f\"\\n--- Email ---\")\n",
    "    print(f\"From: {sender}\")\n",
    "    print(f\"Subject: {subject}\")\n",
    "    #print(f\"Body:\\n{body_text}\")"
   ]
  },
  {
   "cell_type": "code",
   "execution_count": null,
   "id": "86a2cfe3",
   "metadata": {},
   "outputs": [],
   "source": []
  }
 ],
 "metadata": {
  "kernelspec": {
   "display_name": "airflow-docker",
   "language": "python",
   "name": "python3"
  },
  "language_info": {
   "codemirror_mode": {
    "name": "ipython",
    "version": 3
   },
   "file_extension": ".py",
   "mimetype": "text/x-python",
   "name": "python",
   "nbconvert_exporter": "python",
   "pygments_lexer": "ipython3",
   "version": "3.12.11"
  }
 },
 "nbformat": 4,
 "nbformat_minor": 5
}

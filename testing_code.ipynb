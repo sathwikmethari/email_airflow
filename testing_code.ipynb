{
 "cells": [
  {
   "cell_type": "code",
   "execution_count": 10,
   "id": "2c4f6dab",
   "metadata": {},
   "outputs": [],
   "source": [
    "import os\n",
    "from dotenv import load_dotenv\n",
    "from google.oauth2.credentials import Credentials\n",
    "from google_auth_oauthlib.flow import InstalledAppFlow\n",
    "from googleapiclient.discovery import build\n",
    "load_dotenv()\n",
    "\n",
    "# SCOPES: Gmail read-only\n",
    "SCOPES = ['https://www.googleapis.com/auth/gmail.readonly']\n",
    "token_path = os.getenv(\"token_path\")\n",
    "credentials_path = os.getenv(\"credentials_path\")"
   ]
  },
  {
   "cell_type": "code",
   "execution_count": 11,
   "id": "748f85fc",
   "metadata": {},
   "outputs": [],
   "source": [
    "def authenticate_gmail():\n",
    "    creds = None\n",
    "    flow = InstalledAppFlow.from_client_secrets_file(credentials_path, SCOPES)\n",
    "    creds = flow.run_local_server(port=0)\n",
    "    service = build('gmail', 'v1', credentials=creds)\n",
    "    return service\n",
    "\n",
    "#service = authenticate_gmail()"
   ]
  },
  {
   "cell_type": "code",
   "execution_count": 70,
   "id": "2797cad8",
   "metadata": {},
   "outputs": [],
   "source": [
    "def get_message_metadata(service, user_id='me', max_results=5):\n",
    "    results = service.users().messages().list(userId=user_id, maxResults=max_results, q=\"after:2025/08/08\").execute()\n",
    "    messages = results.get('messages', [])\n",
    "\n",
    "    for _, msg in enumerate(messages):\n",
    "        msg_data = service.users().messages().get(userId=user_id, id=msg['id'], format='metadata', metadataHeaders=['Subject', 'From', 'Date']).execute()\n",
    "        headers = msg_data.get('payload', {}).get('headers', [])\n",
    "\n",
    "        email_info = {header['name']: header['value'] for header in headers if header['name'] in ['Subject', 'From', 'Date']}\n",
    "        print(f\"From: {email_info.get('From')}\")\n",
    "        print(f\"Subject: {email_info.get('Subject')}\")\n",
    "        print(f\"Date: {email_info.get('Date')}\")"
   ]
  },
  {
   "cell_type": "code",
   "execution_count": 72,
   "id": "c83192f0",
   "metadata": {},
   "outputs": [],
   "source": [
    "# import json, collections\n",
    "\n",
    "# out_dict=collections.defaultdict(list) #dict to store the relevant information\n",
    "    \n",
    "# for msg in l[0]:\n",
    "#     start_time = time.time()\n",
    "#     msg_data = service.users().messages().get(userId=\"me\", id=msg[\"id\"], format=\"full\").execute()\n",
    "\n",
    "#     payload = msg_data.get(\"payload\", {})\n",
    "#     # subject, sender = extract_headers(payload)\n",
    "#     # body_text = decode_body(payload, prefer_plain=True).strip()\n",
    "\n",
    "#     # print(f\"\\n--- Email ---\")\n",
    "#     # print(f\"From: {sender}\")\n",
    "#     # print(f\"Subject: {subject}\")\n",
    "#     # print(f\"Body:\\n{body_text}\")\n",
    "#     print(f\"[Thread] >> Time taken: {time.time() - start_time:.4f} sec.\")\n",
    "#     out_dict[\"ID\"].append(msg_data[\"id\"])\n",
    "#     out_dict[\"payload\"].append(payload)\n"
   ]
  },
  {
   "cell_type": "code",
   "execution_count": null,
   "id": "ea581bdf",
   "metadata": {},
   "outputs": [
    {
     "name": "stdout",
     "output_type": "stream",
     "text": [
      "Size in MB: 0.00018310546875\n"
     ]
    }
   ],
   "source": [
    "import sys\n",
    "out_dict={}\n",
    "size_in_bytes=sys.getsizeof(out_dict)\n",
    "\n",
    "size_in_mb=size_in_bytes / (1024 * 1024)\n",
    "print(f\"Size in MB: {size_in_mb}\")"
   ]
  },
  {
   "cell_type": "code",
   "execution_count": 74,
   "id": "4c1da765",
   "metadata": {},
   "outputs": [],
   "source": [
    "import json, gzip\n",
    "\n",
    "# Decompress and load\n",
    "# with gzip.open('data.json.gz', 'rb') as f:\n",
    "#     decompressed_bytes = f.read()\n",
    "# decompressed_data = json.loads(decompressed_bytes.decode('utf-8'))\n",
    "# print(decompressed_data)"
   ]
  },
  {
   "cell_type": "code",
   "execution_count": 8,
   "id": "ea02394d",
   "metadata": {},
   "outputs": [],
   "source": [
    "from dags.utils import *\n",
    "from datetime import  datetime, timedelta"
   ]
  },
  {
   "cell_type": "code",
   "execution_count": 12,
   "id": "149c01dd",
   "metadata": {},
   "outputs": [
    {
     "name": "stdout",
     "output_type": "stream",
     "text": [
      "[CORO - 8] >> Time taken: 2.5456 sec.\n",
      "[CORO - 9] >> Time taken: 2.5365 sec.\n",
      "[CORO - 3] >> Time taken: 2.5675 sec.\n",
      "[CORO - 6] >> Time taken: 2.5563 sec.\n",
      "[CORO - 2] >> Time taken: 2.5708 sec.\n",
      "[CORO - 5] >> Time taken: 2.5623 sec.\n",
      "[CORO - 1] >> Time taken: 2.5755 sec.\n",
      "[CORO - 7] >> Time taken: 2.5563 sec.\n",
      "[CORO - 4] >> Time taken: 3.2818 sec.\n"
     ]
    }
   ],
   "source": [
    "def get_dates() -> list[tuple]:\n",
    "    today = datetime.now().date()\n",
    "    ranges = []\n",
    "    for i in range(1, 10):\n",
    "        after_date = today - timedelta(days=i)\n",
    "        before_date = today - timedelta(days=i - 1)\n",
    "        ranges.append((after_date.strftime(\"%Y/%m/%d\"), before_date.strftime(\"%Y/%m/%d\")))\n",
    "    return ranges\n",
    "dates =get_dates()\n",
    "x = await async_get_ids_main(dates, token_path)"
   ]
  },
  {
   "cell_type": "code",
   "execution_count": 13,
   "id": "b85d2fd7",
   "metadata": {},
   "outputs": [],
   "source": [
    "from google.oauth2.credentials import Credentials\n",
    "from googleapiclient.discovery import build\n",
    "SCOPES = ['https://www.googleapis.com/auth/gmail.readonly']    \n",
    "creds = Credentials.from_authorized_user_file(token_path, SCOPES)\n",
    "service = build('gmail', 'v1', credentials=creds)\n",
    "msg = service.users().messages().list(userId='me', q=f\"after:{dates[0][0]} before:{dates[0][1]}\").execute()"
   ]
  },
  {
   "cell_type": "code",
   "execution_count": 17,
   "id": "544ba6db",
   "metadata": {},
   "outputs": [
    {
     "name": "stdout",
     "output_type": "stream",
     "text": [
      "['198aaf280d978c5c', '198a9884c0401181', '198a9328124ea8b7', '198a929e278667ed', '198a8ccdfab8794a', '198a8ca59f9772a2', '198a8c9b7f0cb680', '198a884249605c9a', '198a88147746e4d3', '198a8809279d1271', '198a8516f32ddf9d', '198a8122e42a966a', '198a7f1d8d11e51c', '198a7efe11efcd4b', '198a7ed8d08a7776', '198a7bf2528a891e', '198a7a40712f1b90', '198a76b760e90b33', '198a74e16ed2573a', '198a74a8634d6201', '198a73cb04e06123', '198a73621bbbfae0', '198a712047ddf7b0', '198a710359a7ded4', '198a6c7ef6a2a3f5', '198a6b260d1b6d50', '198a6a366ca11770', '198a68bed237dcc2', '198a6828a63d96a1']\n"
     ]
    }
   ],
   "source": [
    "ids = [dict_[\"id\"]  for dict_ in msg.get('messages', [])]\n",
    "print(ids)"
   ]
  },
  {
   "cell_type": "code",
   "execution_count": null,
   "id": "f90ef984",
   "metadata": {},
   "outputs": [],
   "source": []
  }
 ],
 "metadata": {
  "kernelspec": {
   "display_name": "airflow-docker",
   "language": "python",
   "name": "python3"
  },
  "language_info": {
   "codemirror_mode": {
    "name": "ipython",
    "version": 3
   },
   "file_extension": ".py",
   "mimetype": "text/x-python",
   "name": "python",
   "nbconvert_exporter": "python",
   "pygments_lexer": "ipython3",
   "version": "3.12.11"
  }
 },
 "nbformat": 4,
 "nbformat_minor": 5
}

{
 "cells": [
  {
   "cell_type": "code",
   "execution_count": 68,
   "id": "2c4f6dab",
   "metadata": {},
   "outputs": [],
   "source": [
    "import os\n",
    "from dotenv import load_dotenv\n",
    "from google.oauth2.credentials import Credentials\n",
    "from google_auth_oauthlib.flow import InstalledAppFlow\n",
    "from googleapiclient.discovery import build\n",
    "load_dotenv()\n",
    "\n",
    "# SCOPES: Gmail read-only\n",
    "SCOPES = ['https://www.googleapis.com/auth/gmail.readonly']\n",
    "token_path = os.getenv(\"token_path\")\n",
    "credentials_path = os.getenv(\"credentials_path\")"
   ]
  },
  {
   "cell_type": "code",
   "execution_count": 69,
   "id": "748f85fc",
   "metadata": {},
   "outputs": [],
   "source": [
    "def authenticate_gmail():\n",
    "    creds = None\n",
    "    flow = InstalledAppFlow.from_client_secrets_file(credentials_path, SCOPES)\n",
    "    creds = flow.run_local_server(port=0)\n",
    "    service = build('gmail', 'v1', credentials=creds)\n",
    "    return service\n",
    "\n",
    "#service = authenticate_gmail()"
   ]
  },
  {
   "cell_type": "code",
   "execution_count": 70,
   "id": "2797cad8",
   "metadata": {},
   "outputs": [],
   "source": [
    "def get_message_metadata(service, user_id='me', max_results=5):\n",
    "    results = service.users().messages().list(userId=user_id, maxResults=max_results, q=\"after:2025/08/08\").execute()\n",
    "    messages = results.get('messages', [])\n",
    "\n",
    "    for _, msg in enumerate(messages):\n",
    "        msg_data = service.users().messages().get(userId=user_id, id=msg['id'], format='metadata', metadataHeaders=['Subject', 'From', 'Date']).execute()\n",
    "        headers = msg_data.get('payload', {}).get('headers', [])\n",
    "\n",
    "        email_info = {header['name']: header['value'] for header in headers if header['name'] in ['Subject', 'From', 'Date']}\n",
    "        print(f\"From: {email_info.get('From')}\")\n",
    "        print(f\"Subject: {email_info.get('Subject')}\")\n",
    "        print(f\"Date: {email_info.get('Date')}\")"
   ]
  },
  {
   "cell_type": "code",
   "execution_count": 71,
   "id": "8d9cb0ea",
   "metadata": {},
   "outputs": [],
   "source": [
    "from utils import extract_headers, decode_body"
   ]
  },
  {
   "cell_type": "code",
   "execution_count": 72,
   "id": "c83192f0",
   "metadata": {},
   "outputs": [],
   "source": [
    "# import json, collections\n",
    "\n",
    "# out_dict=collections.defaultdict(list) #dict to store the relevant information\n",
    "    \n",
    "# for msg in l[0]:\n",
    "#     start_time = time.time()\n",
    "#     msg_data = service.users().messages().get(userId=\"me\", id=msg[\"id\"], format=\"full\").execute()\n",
    "\n",
    "#     payload = msg_data.get(\"payload\", {})\n",
    "#     # subject, sender = extract_headers(payload)\n",
    "#     # body_text = decode_body(payload, prefer_plain=True).strip()\n",
    "\n",
    "#     # print(f\"\\n--- Email ---\")\n",
    "#     # print(f\"From: {sender}\")\n",
    "#     # print(f\"Subject: {subject}\")\n",
    "#     # print(f\"Body:\\n{body_text}\")\n",
    "#     print(f\"[Thread] >> Time taken: {time.time() - start_time:.4f} sec.\")\n",
    "#     out_dict[\"ID\"].append(msg_data[\"id\"])\n",
    "#     out_dict[\"payload\"].append(payload)\n"
   ]
  },
  {
   "cell_type": "code",
   "execution_count": 73,
   "id": "ea581bdf",
   "metadata": {},
   "outputs": [
    {
     "name": "stdout",
     "output_type": "stream",
     "text": [
      "Size in MB: 0.00018310546875\n"
     ]
    }
   ],
   "source": [
    "import sys\n",
    "\n",
    "size_in_bytes=sys.getsizeof(out_dict)\n",
    "\n",
    "size_in_mb=size_in_bytes / (1024 * 1024)\n",
    "print(f\"Size in MB: {size_in_mb}\")"
   ]
  },
  {
   "cell_type": "code",
   "execution_count": 74,
   "id": "4c1da765",
   "metadata": {},
   "outputs": [],
   "source": [
    "import json, gzip\n",
    "\n",
    "# Decompress and load\n",
    "# with gzip.open('data.json.gz', 'rb') as f:\n",
    "#     decompressed_bytes = f.read()\n",
    "# decompressed_data = json.loads(decompressed_bytes.decode('utf-8'))\n",
    "# print(decompressed_data)"
   ]
  },
  {
   "cell_type": "code",
   "execution_count": 87,
   "id": "ec414fb9",
   "metadata": {},
   "outputs": [],
   "source": [
    "SCOPES = ['https://www.googleapis.com/auth/gmail.readonly']\n",
    "token_path = \"C:/airflow-docker/include/secrets/gmail/token.json\"\n",
    "creds = Credentials.from_authorized_user_file(token_path, SCOPES)\n",
    "services = [build('gmail', 'v1', credentials=creds) for _ in range(20)]"
   ]
  },
  {
   "cell_type": "code",
   "execution_count": 88,
   "id": "8fe40788",
   "metadata": {},
   "outputs": [
    {
     "data": {
      "text/plain": [
       "googleapiclient.discovery.Resource"
      ]
     },
     "execution_count": 88,
     "metadata": {},
     "output_type": "execute_result"
    }
   ],
   "source": [
    "type(services[0])"
   ]
  }
 ],
 "metadata": {
  "kernelspec": {
   "display_name": "airflow-docker",
   "language": "python",
   "name": "python3"
  },
  "language_info": {
   "codemirror_mode": {
    "name": "ipython",
    "version": 3
   },
   "file_extension": ".py",
   "mimetype": "text/x-python",
   "name": "python",
   "nbconvert_exporter": "python",
   "pygments_lexer": "ipython3",
   "version": "3.12.11"
  }
 },
 "nbformat": 4,
 "nbformat_minor": 5
}

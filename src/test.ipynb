{
 "cells": [
  {
   "cell_type": "code",
   "execution_count": null,
   "id": "ac8965c9",
   "metadata": {},
   "outputs": [],
   "source": [
    "import os, imaplib, email\n",
    "from email.header import decode_header\n",
    "from datetime import datetime\n",
    "from dotenv import load_dotenv\n",
    "load_dotenv()\n",
    "\n",
    "IMAP_SERVER = 'imap.gmail.com'\n",
    "IMAP_PORT = 993  \n",
    "USERNAME = os.getenv(\"user\")\n",
    "PASSWORD = os.getenv(\"pass\")"
   ]
  },
  {
   "cell_type": "code",
   "execution_count": null,
   "id": "8eec7a06",
   "metadata": {},
   "outputs": [],
   "source": [
    "mail = imaplib.IMAP4_SSL(IMAP_SERVER, IMAP_PORT)\n",
    "mail.login(USERNAME, PASSWORD)\n",
    "\n",
    "# Select the mailbox\n",
    "mail.select('INBOX')"
   ]
  },
  {
   "cell_type": "code",
   "execution_count": null,
   "id": "fbc6d167",
   "metadata": {},
   "outputs": [],
   "source": [
    "status, email_ids = mail.search(None, f'(SINCE {'06-Aug-2025'})')\n",
    "email_id_list = email_ids[0].split()"
   ]
  },
  {
   "cell_type": "code",
   "execution_count": null,
   "id": "c9d1579d",
   "metadata": {},
   "outputs": [],
   "source": [
    "status, email_ids = mail.search(None, 'ALL')\n",
    "email_id_list = email_ids[0].split()\n",
    "\n",
    "# Get the raw message for the latest email (for example)\n",
    "latest_email_id = email_id_list[-1]"
   ]
  },
  {
   "cell_type": "code",
   "execution_count": null,
   "id": "2a2b4b28",
   "metadata": {},
   "outputs": [],
   "source": [
    "# Fetch the email by ID\n",
    "status, msg_data = mail.fetch(latest_email_id, \"(RFC822)\")\n",
    "\n",
    "# Parse the email content\n",
    "raw_email = msg_data[0][1]\n",
    "msg = email.message_from_bytes(raw_email)\n",
    "\n",
    "# Decode email subject\n",
    "subject, encoding = decode_header(msg[\"Subject\"])[0]\n",
    "if isinstance(subject, bytes):\n",
    "    subject = subject.decode(encoding or \"utf-8\")\n",
    "\n",
    "# From\n",
    "from_ = msg.get(\"From\")\n",
    "\n",
    "# Print basic headers\n",
    "print(f\"From: {from_}\")\n",
    "print(f\"Subject: {subject}\")\n",
    "\n",
    "# Get the email body\n",
    "if msg.is_multipart():\n",
    "    for part in msg.walk():\n",
    "        content_type = part.get_content_type()\n",
    "        content_disposition = str(part.get(\"Content-Disposition\"))\n",
    "\n",
    "        if \"attachment\" not in content_disposition and content_type == \"text/plain\":\n",
    "            body = part.get_payload(decode=True).decode()\n",
    "            print(\"Body:\", body)\n",
    "            break\n",
    "else:\n",
    "    # Non-multipart email\n",
    "    body = msg.get_payload(decode=True).decode()\n",
    "    print(\"Body:\", body)"
   ]
  },
  {
   "cell_type": "code",
   "execution_count": null,
   "id": "ff72f069",
   "metadata": {},
   "outputs": [],
   "source": [
    "# Logout\n",
    "mail.logout()"
   ]
  }
 ],
 "metadata": {
  "kernelspec": {
   "display_name": "airflow-docker",
   "language": "python",
   "name": "python3"
  },
  "language_info": {
   "codemirror_mode": {
    "name": "ipython",
    "version": 3
   },
   "file_extension": ".py",
   "mimetype": "text/x-python",
   "name": "python",
   "nbconvert_exporter": "python",
   "pygments_lexer": "ipython3",
   "version": "3.12.11"
  }
 },
 "nbformat": 4,
 "nbformat_minor": 5
}

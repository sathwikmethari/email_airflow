{
 "cells": [
  {
   "cell_type": "code",
   "execution_count": null,
   "id": "ac8965c9",
   "metadata": {},
   "outputs": [],
   "source": [
    "import os, imaplib, email\n",
    "from email.header import decode_header\n",
    "from email import message_from_bytes\n",
    "from datetime import datetime\n",
    "from dotenv import load_dotenv\n",
    "load_dotenv()\n",
    "\n",
    "IMAP_SERVER = 'imap.gmail.com'\n",
    "IMAP_PORT = 993  \n",
    "USERNAME = os.getenv(\"user\")\n",
    "PASSWORD = os.getenv(\"pass\")"
   ]
  },
  {
   "cell_type": "code",
   "execution_count": 88,
   "id": "8eec7a06",
   "metadata": {},
   "outputs": [
    {
     "data": {
      "text/plain": [
       "('OK', [b'6847'])"
      ]
     },
     "execution_count": 88,
     "metadata": {},
     "output_type": "execute_result"
    }
   ],
   "source": [
    "mail = imaplib.IMAP4_SSL(IMAP_SERVER, IMAP_PORT)\n",
    "mail.login(USERNAME, PASSWORD)\n",
    "\n",
    "# Select the mailbox\n",
    "mail.select('INBOX')"
   ]
  },
  {
   "cell_type": "code",
   "execution_count": 89,
   "id": "fbc6d167",
   "metadata": {},
   "outputs": [],
   "source": [
    "status, email_ids = mail.search(None, f'(SINCE {'06-Aug-2025'})')\n",
    "email_id_list = email_ids[0].split()"
   ]
  },
  {
   "cell_type": "code",
   "execution_count": 90,
   "id": "c9d1579d",
   "metadata": {},
   "outputs": [],
   "source": [
    "status, email_ids = mail.search(None, 'ALL')\n",
    "email_id_list = email_ids[0].split()\n",
    "\n",
    "# Get the raw message for the latest email (for example)\n",
    "latest_email_id = email_id_list[-1]"
   ]
  },
  {
   "cell_type": "code",
   "execution_count": null,
   "id": "2a2b4b28",
   "metadata": {},
   "outputs": [
    {
     "name": "stdout",
     "output_type": "stream",
     "text": [
      "From: Sathwik Methari <sathwikmethari@alumni.iitm.ac.in>\n",
      "Subject: Test\n",
      "Body: Here is an attached\n",
      "\n"
     ]
    }
   ],
   "source": [
    "#https://docs.python.org/3/library/email.header.html\n",
    "\n",
    "# Fetch the email by ID\n",
    "status, msg_data = mail.fetch(latest_email_id, \"(RFC822)\")\n",
    "\n",
    "# Parse the email content\n",
    "raw_email = msg_data[0][1]\n",
    "msg = email.message_from_bytes(raw_email, policy=email.policy.default)\n",
    "\n",
    "# Decode email subject\n",
    "subject, _ = decode_header(msg[\"Subject\"])[0]\n",
    "\n",
    "if isinstance(subject, bytes):\n",
    "    subject = subject.decode(\"utf-8\")\n",
    "\n",
    "# From\n",
    "from_ = msg.get(\"From\")\n",
    "\n",
    "# Print basic headers\n",
    "print(f\"From: {from_}\")\n",
    "print(f\"Subject: {subject}\")\n",
    "\n",
    "# Get the email body\n",
    "if msg.is_multipart():\n",
    "    for part in msg.walk():\n",
    "        content_type = part.get_content_type()\n",
    "        content_disposition = str(part.get(\"Content-Disposition\"))\n",
    "\n",
    "        if \"attachment\" not in content_disposition and content_type == \"text/plain\":\n",
    "            body = part.get_payload(decode=True).decode()\n",
    "            print(\"Body:\", body)\n",
    "            break\n",
    "else:\n",
    "    # Non-multipart email\n",
    "    body = msg.get_payload(decode=True)\n",
    "    print(\"Body -- 1:\", type(body))\n",
    "    body=body.decode()\n",
    "    print(\"Body -- 2:\", body)"
   ]
  },
  {
   "cell_type": "code",
   "execution_count": 92,
   "id": "ff72f069",
   "metadata": {},
   "outputs": [
    {
     "name": "stdout",
     "output_type": "stream",
     "text": [
      "1000001486.jpg\n"
     ]
    }
   ],
   "source": [
    "# Logout\n",
    "#mail.logout()\n",
    "\n",
    "for attachment in msg.iter_attachments():\n",
    "    # Process each attachment here\n",
    "    filename = attachment.get_filename()\n",
    "    print(filename)"
   ]
  },
  {
   "cell_type": "code",
   "execution_count": 93,
   "id": "1e613c71",
   "metadata": {},
   "outputs": [
    {
     "name": "stdout",
     "output_type": "stream",
     "text": [
      "Size in MB: 5.91278076171875e-05\n"
     ]
    }
   ],
   "source": [
    "import sys\n",
    "size_in_bytes=sys.getsizeof(body)\n",
    "\n",
    "size_in_mb=size_in_bytes / (1024 * 1024)\n",
    "print(f\"Size in MB: {size_in_mb}\")"
   ]
  },
  {
   "cell_type": "code",
   "execution_count": null,
   "id": "4f5a9e05",
   "metadata": {},
   "outputs": [],
   "source": []
  }
 ],
 "metadata": {
  "kernelspec": {
   "display_name": "airflow-docker",
   "language": "python",
   "name": "python3"
  },
  "language_info": {
   "codemirror_mode": {
    "name": "ipython",
    "version": 3
   },
   "file_extension": ".py",
   "mimetype": "text/x-python",
   "name": "python",
   "nbconvert_exporter": "python",
   "pygments_lexer": "ipython3",
   "version": "3.12.11"
  }
 },
 "nbformat": 4,
 "nbformat_minor": 5
}

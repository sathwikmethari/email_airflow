{
 "cells": [
  {
   "cell_type": "code",
   "execution_count": 6,
   "id": "ac8965c9",
   "metadata": {},
   "outputs": [],
   "source": [
    "import os, imaplib, email\n",
    "from email.header import decode_header\n",
    "from email import message_from_bytes\n",
    "from datetime import datetime\n",
    "from dotenv import load_dotenv\n",
    "load_dotenv()\n",
    "\n",
    "IMAP_SERVER = 'imap.gmail.com'\n",
    "IMAP_PORT = 993  \n",
    "USERNAME = os.getenv(\"user\")\n",
    "PASSWORD = os.getenv(\"pass\")"
   ]
  },
  {
   "cell_type": "code",
   "execution_count": 7,
   "id": "8eec7a06",
   "metadata": {},
   "outputs": [
    {
     "data": {
      "text/plain": [
       "('OK', [b'6860'])"
      ]
     },
     "execution_count": 7,
     "metadata": {},
     "output_type": "execute_result"
    }
   ],
   "source": [
    "mail = imaplib.IMAP4_SSL(IMAP_SERVER, IMAP_PORT)\n",
    "mail.login(USERNAME, PASSWORD)\n",
    "\n",
    "# Select the mailbox\n",
    "mail.select('INBOX')"
   ]
  },
  {
   "cell_type": "code",
   "execution_count": 8,
   "id": "fbc6d167",
   "metadata": {},
   "outputs": [],
   "source": [
    "status, email_ids = mail.search(None, f'(SINCE {'06-Aug-2025'})')\n",
    "email_id_list = email_ids[0].split()"
   ]
  },
  {
   "cell_type": "code",
   "execution_count": 9,
   "id": "c9d1579d",
   "metadata": {},
   "outputs": [],
   "source": [
    "status, email_ids = mail.search(None, 'ALL')\n",
    "email_id_list = email_ids[0].split()\n",
    "\n",
    "# Get the raw message for the latest email (for example)\n",
    "latest_email_id = email_id_list[-1]"
   ]
  },
  {
   "cell_type": "code",
   "execution_count": 11,
   "id": "f4f473e9",
   "metadata": {},
   "outputs": [],
   "source": [
    "from email.policy import default"
   ]
  },
  {
   "cell_type": "code",
   "execution_count": 12,
   "id": "2a2b4b28",
   "metadata": {},
   "outputs": [
    {
     "name": "stdout",
     "output_type": "stream",
     "text": [
      "From: Lenovo Listens <listening@lenovo.com>\n",
      "Subject: Your feedback will help us improve\n",
      "Body -- 1: <class 'bytes'>\n",
      "Body -- 2: <table style=\"width: 100%; text-align: center; background: rgb(255, 255, 255); font-family: arial, helvetica, sans-serif; font-size: 14px;\">\n",
      "\t<tbody>\n",
      "\t\t<tr>\n",
      "\t\t\t<td>\n",
      "\t\t\t\t<table style=\"width: 100%; margin: auto; text-align: left; font-family: arial, helvetica, sans-serif; font-size: 14px;\">\n",
      "\t\t\t\t\t<tbody>\n",
      "\t\t\t\t\t\t<tr>\n",
      "\t\t\t\t\t\t\t<td>\n",
      "\t\t\t\t\t\t\t\t<span style=\"font-size: small;\"><img style=\"padding-bottom: 15px;\" src=\"https://download.lenovo.com/survey/images/lenovo%20logo.png\"/>\n",
      "\t\t\t\t\t\t\t</span></td>\n",
      "\t\t\t\t\t\t</tr>\n",
      "\t\t\t\t\t\t<tr>\n",
      "\t\t\t\t\t\t\t<td>\n",
      "\t\t\t\t\t\t\t\t<p><span style=\"font-size: medium;\">Dear Methari Satwik,</span></p><p><span style=\"font-size: medium;\">Thank you for your purchase. We would like your thoughts on your recent purchase with order ID G901238133 for LOQ 15ARP9 purchased on our site.</span></p><p><span style=\"font-size: medium;\">At Lenovo,  all feedback received is looked into with care and we work on making improvements to help make it a better experience. This survey only takes a couple of minutes to complete and you can click the link below to start:</span></p>\n",
      "\t\t\t\t\t\t\t</td>\n",
      "\t\t\t\t\t\t</tr>\n",
      "\t\t\t\t\t\t<tr style=\"text-align: center;\">\n",
      "\t\t\t\t\t\t\t<td>\n",
      "\t\t\t\t\t\t\t\t<table style=\"width: 100px; background: rgb(226, 35, 26); color: rgb(255, 255, 255); text-align: center; font-family: arial, helvetica, sans-serif; font-weight: bold;\">\n",
      "\t\t\t\t\t\t\t\t\t<tbody>\n",
      "\t\t\t\t\t\t\t\t\t\t<tr>\n",
      "\t\t\t\t\t\t\t\t\t\t\t<td><strong><a href=\"https://survey.us.confirmit.com/wix/p3094208148.aspx?__sid__=hMn_7JBkuTSVia5u93KDQYIOkWtjLEhAQwiHgXP9GCBtfVUJMrbzVaUuI071m9ikO8AWXwpFXt5Bxh6b0Y8zyw2\" style=\"color: white; font-size: medium;\">Click here</a></strong></td>\n",
      "\t\t\t\t\t\t\t\t\t\t</tr>\n",
      "\t\t\t\t\t\t\t\t\t</tbody>\n",
      "\t\t\t\t\t\t\t\t</table>\n",
      "\t\t\t\t\t\t\t</td>\n",
      "\t\t\t\t\t\t</tr>\n",
      "\t\t\t\t\t\t<tr>\n",
      "\t\t\t\t\t\t\t<td>\n",
      "\t\t\t\t\t\t\t\t<p><span style=\"font-size: medium;\"><br/>Thanks in advance for your participation.<br/><br/>Sincerely,<br/>Ajit Sivadasan<br/>Vice President &amp; General Manager - Lenovo.com</span></p>\n",
      "\t\t\t\t\t\t\t</td>\n",
      "\t\t\t\t\t\t</tr>\n",
      "\t\t\t\t\t\t<tr>\n",
      "\t\t\t\t\t\t\t<td><p><br/></p><p>If you do not wish to participate in this survey and do not want any more emails about this survey, please <a href=\"https://ws.us.confirmit.com/v1/notifications/unsubscribe?key=8B04FB38D5B3D3CBC43771BA941B7E2FA2796BB3489F7909C0E9A268F21F852D0D1F551A30D55D7B12D788EDCAC37CEB14ED5349F64926694775D91F9F76A15AB3CD1CBE166F2EA3E552003C6B4AFBB27FDF430DC7B7364FDB41C476292DEBF7CF885E25EB9B08E159D238070FD128E0664B4B37382F599CF55280063166192449004400A4A6E48CC43060F6BC8E3069\"> click here</a></p>\n",
      "\t\t\t\t\t\t\t\t<p>You have been given a unique URL to take the survey so please do not forward this email. Please do NOT reply to this email, it will go to an unmonitored box.</p>\n",
      "\t\t\t\t\t\t\t\t<p>Lenovo may use your responses together with existing data it has about you to ensure its products and services meet your needs. Lenovo will treat data collected from you in accordance with Lenovo's privacy policy. To review this privacy policy, please see:<a href=\"https://www.lenovo.com/in/en/privacy/\"> privacy policy</a> To review legal information see: <a href=\"https://www.lenovo.com/in/en/legal/\"> legal info</a></p>\n",
      "\t\t\t\t\t\t\t</td>\n",
      "\t\t\t\t\t\t\t<td> </td>\n",
      "\t\t\t\t\t\t</tr>\n",
      "\t\t\t\t\t</tbody>\n",
      "\t\t\t\t</table>\n",
      "\t\t\t</td>\n",
      "\t\t</tr>\n",
      "\t</tbody>\n",
      "</table>\n",
      "\n"
     ]
    }
   ],
   "source": [
    "#https://docs.python.org/3/library/email.header.html\n",
    "\n",
    "# Fetch the email by ID\n",
    "status, msg_data = mail.fetch(latest_email_id, \"(RFC822)\")\n",
    "\n",
    "# Parse the email content\n",
    "raw_email = msg_data[0][1]\n",
    "msg = email.message_from_bytes(raw_email, policy=default)\n",
    "\n",
    "# Decode email subject\n",
    "subject, _ = decode_header(msg[\"Subject\"])[0]\n",
    "\n",
    "if isinstance(subject, bytes):\n",
    "    subject = subject.decode(\"utf-8\")\n",
    "\n",
    "# From\n",
    "from_ = msg.get(\"From\")\n",
    "\n",
    "# Print basic headers\n",
    "print(f\"From: {from_}\")\n",
    "print(f\"Subject: {subject}\")\n",
    "\n",
    "# Get the email body\n",
    "if msg.is_multipart():\n",
    "    for part in msg.walk():\n",
    "        content_type = part.get_content_type()\n",
    "        content_disposition = str(part.get(\"Content-Disposition\"))\n",
    "\n",
    "        if \"attachment\" not in content_disposition and content_type == \"text/plain\":\n",
    "            body = part.get_payload(decode=True).decode()\n",
    "            print(\"Body:\", body)\n",
    "            break\n",
    "else:\n",
    "    # Non-multipart email\n",
    "    body = msg.get_payload(decode=True)\n",
    "    print(\"Body -- 1:\", type(body))\n",
    "    body=body.decode()\n",
    "    print(\"Body -- 2:\", body)"
   ]
  },
  {
   "cell_type": "code",
   "execution_count": 13,
   "id": "ff72f069",
   "metadata": {},
   "outputs": [],
   "source": [
    "# Logout\n",
    "#mail.logout()\n",
    "\n",
    "for attachment in msg.iter_attachments():\n",
    "    # Process each attachment here\n",
    "    filename = attachment.get_filename()\n",
    "    print(filename)"
   ]
  },
  {
   "cell_type": "code",
   "execution_count": null,
   "id": "1e613c71",
   "metadata": {},
   "outputs": [
    {
     "name": "stdout",
     "output_type": "stream",
     "text": [
      "Size in MB: 5.91278076171875e-05\n"
     ]
    }
   ],
   "source": [
    "import sys\n",
    "size_in_bytes=sys.getsizeof(body)\n",
    "\n",
    "size_in_mb=size_in_bytes / (1024 * 1024)\n",
    "print(f\"Size in MB: {size_in_mb}\")"
   ]
  }
 ],
 "metadata": {
  "kernelspec": {
   "display_name": "airflow-docker",
   "language": "python",
   "name": "python3"
  },
  "language_info": {
   "codemirror_mode": {
    "name": "ipython",
    "version": 3
   },
   "file_extension": ".py",
   "mimetype": "text/x-python",
   "name": "python",
   "nbconvert_exporter": "python",
   "pygments_lexer": "ipython3",
   "version": "3.12.11"
  }
 },
 "nbformat": 4,
 "nbformat_minor": 5
}

{
 "cells": [
  {
   "cell_type": "code",
   "execution_count": 1,
   "id": "2c4f6dab",
   "metadata": {},
   "outputs": [],
   "source": [
    "from google.oauth2.credentials import Credentials\n",
    "from google_auth_oauthlib.flow import InstalledAppFlow\n",
    "from googleapiclient.discovery import build\n",
    "\n",
    "# SCOPES: Gmail read-only\n",
    "SCOPES = ['https://www.googleapis.com/auth/gmail.readonly']\n",
    "\n",
    "def authenticate_gmail():\n",
    "    creds = None\n",
    "    flow = InstalledAppFlow.from_client_secrets_file('C:/airflow-docker/include/secrets/gmail/credentials.json', SCOPES)\n",
    "    creds = flow.run_local_server(port=0)\n",
    "    service = build('gmail', 'v1', credentials=creds)\n",
    "    return service"
   ]
  },
  {
   "cell_type": "code",
   "execution_count": 2,
   "id": "748f85fc",
   "metadata": {},
   "outputs": [
    {
     "name": "stdout",
     "output_type": "stream",
     "text": [
      "Please visit this URL to authorize this application: https://accounts.google.com/o/oauth2/auth?response_type=code&client_id=605782370280-mohr8q21oavsvm9l8712s186e8o23vdf.apps.googleusercontent.com&redirect_uri=http%3A%2F%2Flocalhost%3A50222%2F&scope=https%3A%2F%2Fwww.googleapis.com%2Fauth%2Fgmail.readonly&state=GRkyS3C99oge5V5SOYOhYMyYG1ZUpx&access_type=offline\n"
     ]
    }
   ],
   "source": [
    "service = authenticate_gmail()"
   ]
  },
  {
   "cell_type": "code",
   "execution_count": 3,
   "id": "2797cad8",
   "metadata": {},
   "outputs": [],
   "source": [
    "def get_message_metadata(service, user_id='me', max_results=5):\n",
    "    results = service.users().messages().list(userId=user_id, maxResults=max_results, q=\"after:2025/08/08\").execute()\n",
    "    messages = results.get('messages', [])\n",
    "\n",
    "    for _, msg in enumerate(messages):\n",
    "        msg_data = service.users().messages().get(userId=user_id, id=msg['id'], format='metadata', metadataHeaders=['Subject', 'From', 'Date']).execute()\n",
    "        headers = msg_data.get('payload', {}).get('headers', [])\n",
    "\n",
    "        email_info = {header['name']: header['value'] for header in headers if header['name'] in ['Subject', 'From', 'Date']}\n",
    "        print(f\"From: {email_info.get('From')}\")\n",
    "        print(f\"Subject: {email_info.get('Subject')}\")\n",
    "        print(f\"Date: {email_info.get('Date')}\")"
   ]
  },
  {
   "cell_type": "code",
   "execution_count": 169,
   "id": "6128be2e",
   "metadata": {},
   "outputs": [],
   "source": [
    "SCOPES = ['https://www.googleapis.com/auth/gmail.readonly']\n",
    "        \n",
    "token_path = \"C:/airflow-docker/include/secrets/gmail/token.json\"\n",
    "\n",
    "creds = Credentials.from_authorized_user_file(token_path, SCOPES)\n",
    "service = build('gmail', 'v1', credentials=creds)\n",
    "\n",
    "results = service.users().messages().list(userId='me', maxResults=5, q=\"after:2025/08/01 before:2025/08/04\").execute()\n",
    "messages = results.get('messages', [])"
   ]
  },
  {
   "cell_type": "code",
   "execution_count": 11,
   "id": "96d5f3a7",
   "metadata": {},
   "outputs": [
    {
     "data": {
      "text/plain": [
       "[{'id': '19872413177971ec', 'threadId': '19872413177971ec'},\n",
       " {'id': '1987190da5ec8871', 'threadId': '1987190da5ec8871'},\n",
       " {'id': '198717c33892b97d', 'threadId': '198717c33892b97d'},\n",
       " {'id': '198715ecc39f04e2', 'threadId': '198715ecc39f04e2'},\n",
       " {'id': '198703627fc7270f', 'threadId': '198703627fc7270f'}]"
      ]
     },
     "execution_count": 11,
     "metadata": {},
     "output_type": "execute_result"
    }
   ],
   "source": [
    "results.get('messages', [])"
   ]
  },
  {
   "cell_type": "code",
   "execution_count": 12,
   "id": "351bd1f9",
   "metadata": {},
   "outputs": [],
   "source": [
    "def get_full_messages(service, message_ids):\n",
    "    messages = []\n",
    "    for msg in message_ids:\n",
    "        message = service.users().messages().get(userId=\"me\", id=msg['id']).execute()\n",
    "        messages.append(message)\n",
    "    return messages\n",
    "x = get_full_messages(service, messages)"
   ]
  },
  {
   "cell_type": "code",
   "execution_count": null,
   "id": "f223db8b",
   "metadata": {},
   "outputs": [],
   "source": [
    "import time, threading\n",
    "from datetime import  datetime, timedelta\n",
    "\n",
    "def last_7_days_generator(start_date: datetime.date):\n",
    "    for i in range(1, 8):\n",
    "        yield start_date - timedelta(days=i)\n",
    "\n",
    "def get_ids(i, gen_1, gen_2):\n",
    "    start_time = time.time()\n",
    "    creds = Credentials.from_authorized_user_file(token_path, SCOPES)\n",
    "    service = build('gmail', 'v1', credentials=creds)\n",
    "    results = service.users().messages().list(userId='me', q=f\"after:{next(gen_2)} before:{next(gen_1)}\").execute()\n",
    "    #time.sleep(0.3)\n",
    "    messages = results.get('messages', [])\n",
    "    print(len(messages))\n",
    "    print(f\"[Thread-{i}]. Time taken: {time.time() - start_time:.4f} sec\") \n",
    "   "
   ]
  },
  {
   "cell_type": "code",
   "execution_count": null,
   "id": "f36c1b3d",
   "metadata": {},
   "outputs": [
    {
     "name": "stdout",
     "output_type": "stream",
     "text": [
      "30\n",
      "[Thread-3]. Time taken: 2.9985 sec\n",
      "23\n",
      "[Thread-2]. Time taken: 3.0616 sec\n",
      "35\n",
      "[Thread-1]. Time taken: 3.0727 sec\n",
      "28\n",
      "[Thread-4]. Time taken: 3.0741 sec\n",
      "23\n",
      "[Thread-5]. Time taken: 3.0904 sec\n",
      "38\n",
      "[Thread-6]. Time taken: 3.1190 sec\n",
      "34\n",
      "[Thread-7]. Time taken: 2.9161 sec\n"
     ]
    }
   ],
   "source": [
    "fetch_threads = []\n",
    "shutdown_event = threading.Event()\n",
    "x = datetime.now().date()  # just date\n",
    "y = x - timedelta(days=1)\n",
    "gen_1 =  last_7_days_generator(x)\n",
    "gen_2 =  last_7_days_generator(y)\n",
    "for i in range(7):\n",
    "    t = threading.Thread(target=get_ids, args=(i+1, gen_1, gen_2))\n",
    "    t.start()\n",
    "    fetch_threads.append(t)\n",
    "    \n",
    "# Signal writer to shut down\n",
    "shutdown_event.set()"
   ]
  },
  {
   "cell_type": "code",
   "execution_count": null,
   "id": "75e75648",
   "metadata": {},
   "outputs": [],
   "source": []
  }
 ],
 "metadata": {
  "kernelspec": {
   "display_name": "airflow-docker",
   "language": "python",
   "name": "python3"
  },
  "language_info": {
   "codemirror_mode": {
    "name": "ipython",
    "version": 3
   },
   "file_extension": ".py",
   "mimetype": "text/x-python",
   "name": "python",
   "nbconvert_exporter": "python",
   "pygments_lexer": "ipython3",
   "version": "3.12.11"
  }
 },
 "nbformat": 4,
 "nbformat_minor": 5
}

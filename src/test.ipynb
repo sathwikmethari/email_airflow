{
 "cells": [
  {
   "cell_type": "code",
   "execution_count": 2,
   "id": "2c4f6dab",
   "metadata": {},
   "outputs": [],
   "source": [
    "import os\n",
    "from dotenv import load_dotenv\n",
    "from google.oauth2.credentials import Credentials\n",
    "from google_auth_oauthlib.flow import InstalledAppFlow\n",
    "from googleapiclient.discovery import build\n",
    "load_dotenv()\n",
    "\n",
    "# SCOPES: Gmail read-only\n",
    "SCOPES = ['https://www.googleapis.com/auth/gmail.readonly']\n",
    "token_path = os.getenv(\"token_path\")\n",
    "credentials_path = os.getenv(\"credentials_path\")"
   ]
  },
  {
   "cell_type": "code",
   "execution_count": 3,
   "id": "748f85fc",
   "metadata": {},
   "outputs": [],
   "source": [
    "def authenticate_gmail():\n",
    "    creds = None\n",
    "    flow = InstalledAppFlow.from_client_secrets_file(credentials_path, SCOPES)\n",
    "    creds = flow.run_local_server(port=0)\n",
    "    service = build('gmail', 'v1', credentials=creds)\n",
    "    return service\n",
    "\n",
    "#service = authenticate_gmail()"
   ]
  },
  {
   "cell_type": "code",
   "execution_count": 4,
   "id": "2797cad8",
   "metadata": {},
   "outputs": [],
   "source": [
    "def get_message_metadata(service, user_id='me', max_results=5):\n",
    "    results = service.users().messages().list(userId=user_id, maxResults=max_results, q=\"after:2025/08/08\").execute()\n",
    "    messages = results.get('messages', [])\n",
    "\n",
    "    for _, msg in enumerate(messages):\n",
    "        msg_data = service.users().messages().get(userId=user_id, id=msg['id'], format='metadata', metadataHeaders=['Subject', 'From', 'Date']).execute()\n",
    "        headers = msg_data.get('payload', {}).get('headers', [])\n",
    "\n",
    "        email_info = {header['name']: header['value'] for header in headers if header['name'] in ['Subject', 'From', 'Date']}\n",
    "        print(f\"From: {email_info.get('From')}\")\n",
    "        print(f\"Subject: {email_info.get('Subject')}\")\n",
    "        print(f\"Date: {email_info.get('Date')}\")"
   ]
  },
  {
   "cell_type": "code",
   "execution_count": 5,
   "id": "351bd1f9",
   "metadata": {},
   "outputs": [
    {
     "ename": "NameError",
     "evalue": "name 'service' is not defined",
     "output_type": "error",
     "traceback": [
      "\u001b[31m---------------------------------------------------------------------------\u001b[39m",
      "\u001b[31mNameError\u001b[39m                                 Traceback (most recent call last)",
      "\u001b[36mCell\u001b[39m\u001b[36m \u001b[39m\u001b[32mIn[5]\u001b[39m\u001b[32m, line 7\u001b[39m\n\u001b[32m      5\u001b[39m         messages.append(message)\n\u001b[32m      6\u001b[39m     \u001b[38;5;28;01mreturn\u001b[39;00m messages\n\u001b[32m----> \u001b[39m\u001b[32m7\u001b[39m x = get_full_messages(\u001b[43mservice\u001b[49m, messages)\n",
      "\u001b[31mNameError\u001b[39m: name 'service' is not defined"
     ]
    }
   ],
   "source": [
    "def get_full_messages(service, message_ids):\n",
    "    messages = []\n",
    "    for msg in message_ids:\n",
    "        message = service.users().messages().get(userId=\"me\", id=msg['id']).execute()\n",
    "        messages.append(message)\n",
    "    return messages\n",
    "x = get_full_messages(service, messages)"
   ]
  },
  {
   "cell_type": "code",
   "execution_count": 7,
   "id": "f223db8b",
   "metadata": {},
   "outputs": [
    {
     "name": "stdout",
     "output_type": "stream",
     "text": [
      "[Thread-4]. Time taken: 1.6214 sec[Thread-2]. Time taken: 1.6235 sec\n",
      "35\n",
      "[Thread-5]. Time taken: 1.6214 sec\n",
      "30\n",
      "\n",
      "34\n",
      "[Thread-7]. Time taken: 1.6204 sec\n",
      "38\n",
      "[Thread-1]. Time taken: 1.6235 sec\n",
      "18\n",
      "[Thread-3]. Time taken: 1.6224 sec\n",
      "23\n",
      "[Thread-6]. Time taken: 1.6563 sec\n",
      "23\n",
      "All threads finished.\n"
     ]
    }
   ],
   "source": [
    "import time, threading\n",
    "from datetime import  datetime, timedelta\n",
    "\n",
    "def last_7_days_generator(start_date: datetime.date):\n",
    "    for i in range(1, 8):\n",
    "        yield start_date - timedelta(days=i)\n",
    "\n",
    "def get_ids(i, gen_1, gen_2):\n",
    "    start_time = time.time()\n",
    "    creds = Credentials.from_authorized_user_file(token_path, SCOPES)\n",
    "    service = build('gmail', 'v1', credentials=creds)\n",
    "    results = service.users().messages().list(userId='me', q=f\"after:{next(gen_2)} before:{next(gen_1)}\").execute()\n",
    "    #time.sleep(0.3)\n",
    "    messages = results.get('messages', [])\n",
    "    print(f\"[Thread-{i}]. Time taken: {time.time() - start_time:.4f} sec\")\n",
    "    print(len(messages))\n",
    "    \n",
    "fetch_threads = []\n",
    "x = datetime.now().date()  # just date\n",
    "y = x - timedelta(days=1)\n",
    "gen_1 =  last_7_days_generator(x)\n",
    "gen_2 =  last_7_days_generator(y)\n",
    "for i in range(7):\n",
    "    t = threading.Thread(target=get_ids, args=(i+1, gen_1, gen_2))\n",
    "    t.start()\n",
    "    fetch_threads.append(t)\n",
    "\n",
    "for t in fetch_threads:\n",
    "    t.join()\n",
    "\n",
    "print(\"All threads finished.\")       "
   ]
  },
  {
   "cell_type": "code",
   "execution_count": 24,
   "id": "75e75648",
   "metadata": {},
   "outputs": [],
   "source": [
    "import queue\n",
    "def create_dates() -> list[tuple]:\n",
    "    today = datetime.now().date()\n",
    "    ranges = []\n",
    "    for i in range(1, 8):\n",
    "        after_date = today - timedelta(days=i)\n",
    "        before_date = today - timedelta(days=i - 1)\n",
    "        ranges.append((after_date.strftime(\"%Y/%m/%d\"), before_date.strftime(\"%Y/%m/%d\")))\n",
    "    return ranges\n",
    "\n",
    "\n",
    "def get_ids(i: int, q: queue.Queue, token_path: str, after: str, before: str) -> None: \n",
    "    start_time = time.time()\n",
    "    SCOPES = ['https://www.googleapis.com/auth/gmail.readonly']\n",
    "    creds = Credentials.from_authorized_user_file(token_path, SCOPES)\n",
    "    service = build('gmail', 'v1', credentials=creds)\n",
    "    results = service.users().messages().list(userId='me', q=f\"after:{after} before:{before}\").execute()\n",
    "    #time.sleep(0.2)\n",
    "    messages = results.get('messages', [])\n",
    "    print(f\"[Thread-{i}] >> Time taken: {time.time() - start_time:.4f} sec.\")\n",
    "    print(len(messages))\n",
    "    q.put(messages)\n",
    "\n",
    "def threaded_get_ids() -> list[dict]:    \n",
    "    dates =  create_dates()\n",
    "    threads_2=[]\n",
    "    q = queue.Queue()   \n",
    "    for i, (after, before) in enumerate(dates, start=1):\n",
    "            t = threading.Thread(target=get_ids, args=(i, q, token_path, after, before))\n",
    "            threads_2.append(t)\n",
    "            t.start()\n",
    "            time.sleep(0.1)\n",
    "            \n",
    "    for t in threads_2:\n",
    "        t.join()\n",
    "    print(\"All threads finished.\")\n",
    "    \n",
    "    return [q.get() for _ in range(q.qsize())]   \n",
    "#l = threaded_get_ids()"
   ]
  },
  {
   "cell_type": "code",
   "execution_count": 22,
   "id": "4056dd4a",
   "metadata": {},
   "outputs": [],
   "source": [
    "from functools import partial\n",
    "batch_size = 7          #Get better\n",
    "dates = create_dates() \n",
    "\n",
    "def get_ids_pool(q: queue.Queue, token_path: str, date: tuple) -> None: \n",
    "    start_time = time.time()\n",
    "    SCOPES = ['https://www.googleapis.com/auth/gmail.readonly']\n",
    "    creds = Credentials.from_authorized_user_file(token_path, SCOPES)\n",
    "    service = build('gmail', 'v1', credentials=creds)\n",
    "    results = service.users().messages().list(userId='me', q=f\"after:{date[0]} before:{date[1]}\").execute()\n",
    "    messages = results.get('messages', [])\n",
    "    q.put(messages)\n",
    "    print(f\"[Thread] >> Time taken: {time.time() - start_time:.4f} sec.\")\n",
    "    print(len(messages))  \n",
    "    #time.sleep(0.2)"
   ]
  },
  {
   "cell_type": "code",
   "execution_count": 23,
   "id": "500a4d29",
   "metadata": {},
   "outputs": [
    {
     "name": "stdout",
     "output_type": "stream",
     "text": [
      "[Thread] >> Time taken: 1.5693 sec.\n",
      "23\n",
      "[Thread] >> Time taken: 1.5722 sec.\n",
      "18\n",
      "[Thread] >> Time taken: 1.5870 sec.\n",
      "29\n",
      "[Thread] >> Time taken: 1.5834 sec.\n",
      "35\n",
      "[Thread] >> Time taken: 1.6032 sec.\n",
      "23\n",
      "[Thread] >> Time taken: 1.6403 sec.\n",
      "38\n",
      "[Thread] >> Time taken: 1.6615 sec.\n",
      "30\n"
     ]
    }
   ],
   "source": [
    "from concurrent.futures import ThreadPoolExecutor\n",
    "qq = queue.Queue()    \n",
    "partial_function = partial(get_ids_pool, qq, token_path)\n",
    "\n",
    "with ThreadPoolExecutor(max_workers=7) as executor:   #multiple workers for faster calling/extracting\n",
    "     executor.map(partial_function, dates)\n",
    "        \n",
    "l = [qq.get() for _ in range(qq.qsize())]\n",
    "qq.task_done()"
   ]
  },
  {
   "cell_type": "code",
   "execution_count": 12,
   "id": "94a1ba30",
   "metadata": {},
   "outputs": [
    {
     "name": "stdout",
     "output_type": "stream",
     "text": [
      "[[{'id': '1988691375a9beb7', 'threadId': '1988691375a9beb7'}, {'id': '198863ac43083174', 'threadId': '198863ac43083174'}, {'id': '198862a53f1f8273', 'threadId': '198862a53f1f8273'}, {'id': '19885fd9b18c5065', 'threadId': '19885fd9b18c5065'}, {'id': '1988571a8df57281', 'threadId': '1988571a8df57281'}, {'id': '19884e1a5a79d487', 'threadId': '19884e1a5a79d487'}, {'id': '19884da798c9f277', 'threadId': '19884da798c9f277'}, {'id': '19884d6cb429e40f', 'threadId': '19884d6cb429e40f'}, {'id': '19884a794e87153f', 'threadId': '19884a794e87153f'}, {'id': '19884a16f6fd5793', 'threadId': '19884a16f6fd5793'}, {'id': '198849ff4af8c706', 'threadId': '198849ff4af8c706'}, {'id': '19884757e8c8ca3e', 'threadId': '19884757e8c8ca3e'}, {'id': '1988441f9389d9e0', 'threadId': '1988441f9389d9e0'}, {'id': '198843c96012890b', 'threadId': '198843c96012890b'}, {'id': '19884051ffcad32c', 'threadId': '19884051ffcad32c'}, {'id': '19883e41a841ed0a', 'threadId': '19883e41a841ed0a'}, {'id': '19883e30d2ec7636', 'threadId': '19883e30d2ec7636'}, {'id': '19883de2b9876ea1', 'threadId': '19883de2b9876ea1'}, {'id': '19883c37f34b3c5b', 'threadId': '19883c37f34b3c5b'}, {'id': '198839c2fa7e373b', 'threadId': '198839c2fa7e373b'}, {'id': '198838305369551d', 'threadId': '198838305369551d'}, {'id': '19883721f76d5dd7', 'threadId': '19883721f76d5dd7'}, {'id': '198835b3e211242b', 'threadId': '198835b3e211242b'}, {'id': '1988351df3c5c6ab', 'threadId': '1988351df3c5c6ab'}, {'id': '1988329bebaec644', 'threadId': '1988329bebaec644'}, {'id': '19882ce5c905063b', 'threadId': '19882ce5c905063b'}, {'id': '19882bb9363047be', 'threadId': '19882bb9363047be'}, {'id': '19882aa34542d70c', 'threadId': '19882aa34542d70c'}, {'id': '1988279bc66e200d', 'threadId': '1988279bc66e200d'}, {'id': '19881e51ea110abf', 'threadId': '19881e51ea110abf'}], [{'id': '1987c4bb48f39ea8', 'threadId': '1987c4bb48f39ea8'}, {'id': '1987bca6ff8be90f', 'threadId': '1987bca6ff8be90f'}, {'id': '1987b4329cccdf81', 'threadId': '1987b4329cccdf81'}, {'id': '1987b03548d9dba3', 'threadId': '1987b03548d9dba3'}, {'id': '1987aaf018df263c', 'threadId': '1987aaf018df263c'}, {'id': '1987aa83a8fbca0a', 'threadId': '1987aa83a8fbca0a'}, {'id': '1987a948ae40f2a2', 'threadId': '1987a948ae40f2a2'}, {'id': '1987a8d72fc90e6b', 'threadId': '1987a8d72fc90e6b'}, {'id': '1987a8c2239bf6a5', 'threadId': '1987a8c2239bf6a5'}, {'id': '1987a6507db3841d', 'threadId': '1987a6507db3841d'}, {'id': '1987a62ddbfc5b21', 'threadId': '1987a62ddbfc5b21'}, {'id': '1987a50716301fe3', 'threadId': '1987a50716301fe3'}, {'id': '1987a061d8f9c945', 'threadId': '1987a061d8f9c945'}, {'id': '19879f47d2a1483c', 'threadId': '19879f47d2a1483c'}, {'id': '19879b88d8327847', 'threadId': '19879b88d8327847'}, {'id': '198799859b32dff8', 'threadId': '198799859b32dff8'}, {'id': '1987997826cf75e1', 'threadId': '1987997826cf75e1'}, {'id': '19879943b173c8b6', 'threadId': '19879943b173c8b6'}, {'id': '19879821c605da21', 'threadId': '19879821c605da21'}, {'id': '198794c0214a6796', 'threadId': '198794c0214a6796'}, {'id': '198793e695725469', 'threadId': '198793e695725469'}, {'id': '1987936025ea93e4', 'threadId': '1987936025ea93e4'}, {'id': '198790df417bff3a', 'threadId': '198790df417bff3a'}, {'id': '19878e2d98b9fdc5', 'threadId': '19878e2d98b9fdc5'}, {'id': '19878dd03dc6ae83', 'threadId': '19878dd03dc6ae83'}, {'id': '19878dc7976d2fa2', 'threadId': '19878dc7976d2fa2'}, {'id': '19878bd94abf2872', 'threadId': '19878bd94abf2872'}, {'id': '19878b64bb2a6818', 'threadId': '19878b64bb2a6818'}, {'id': '19878b1160eed905', 'threadId': '19878b1160eed905'}, {'id': '198786eb019065b1', 'threadId': '198786eb019065b1'}, {'id': '198786411f372307', 'threadId': '198786411f372307'}, {'id': '198784c3f5bf1b5d', 'threadId': '198784c3f5bf1b5d'}, {'id': '19878329d132601f', 'threadId': '19878329d132601f'}, {'id': '19877f23eae29753', 'threadId': '19877f23eae29753'}, {'id': '1987795897b0b658', 'threadId': '1987795897b0b658'}], [{'id': '1988fa0ec71095de', 'threadId': '1988fa0ec71095de'}, {'id': '1988f4602bab1034', 'threadId': '1988f4602bab1034'}, {'id': '1988f3edd6872d47', 'threadId': '1988f3edd6872d47'}, {'id': '1988f3192f685223', 'threadId': '1988f3192f685223'}, {'id': '1988f00ca1b9169f', 'threadId': '1988f00ca1b9169f'}, {'id': '1988efed54902d87', 'threadId': '1988efed54902d87'}, {'id': '1988ec02f689b10b', 'threadId': '1988ec02f689b10b'}, {'id': '1988e90a5cf60f34', 'threadId': '1988e90a5cf60f34'}, {'id': '1988e51aca6a9c8f', 'threadId': '1988e51aca6a9c8f'}, {'id': '1988e317d91b4754', 'threadId': '1988e317d91b4754'}, {'id': '1988e2f368f2b9ab', 'threadId': '1988e2f368f2b9ab'}, {'id': '1988e2d36db89017', 'threadId': '1988e2d36db89017'}, {'id': '1988de543b3e6756', 'threadId': '1988de543b3e6756'}, {'id': '1988dd0173e46453', 'threadId': '1988dd0173e46453'}, {'id': '1988dc8e0e5f2bf5', 'threadId': '1988dc8e0e5f2bf5'}, {'id': '1988dbf3edc25a79', 'threadId': '1988dbf3edc25a79'}, {'id': '1988d79038ac6f7b', 'threadId': '1988d79038ac6f7b'}, {'id': '1988d787c132fb35', 'threadId': '1988d787c132fb35'}, {'id': '1988d762d28cd18e', 'threadId': '1988d762d28cd18e'}, {'id': '1988d6d3585d9469', 'threadId': '1988d6d3585d9469'}, {'id': '1988d697135e2327', 'threadId': '1988d697135e2327'}, {'id': '1988d0849858f2ee', 'threadId': '1988d0849858f2ee'}, {'id': '1988cfc3ebf1575c', 'threadId': '1988cfc3ebf1575c'}], [{'id': '19881b399b4db5b1', 'threadId': '19881b399b4db5b1'}, {'id': '1988125ea4abe267', 'threadId': '1988125ea4abe267'}, {'id': '19880c88b8ea768c', 'threadId': '19880c88b8ea768c'}, {'id': '198806af07e50b1c', 'threadId': '198806af07e50b1c'}, {'id': '19880230f34acf5d', 'threadId': '19880230f34acf5d'}, {'id': '198801d436f08b3d', 'threadId': '198801d436f08b3d'}, {'id': '1987ff0cb0ffa347', 'threadId': '1987ff0cb0ffa347'}, {'id': '1987fd50c83f43f5', 'threadId': '1987fd50c83f43f5'}, {'id': '1987fd32749bd2c1', 'threadId': '1987fd32749bd2c1'}, {'id': '1987fb2e35c30e67', 'threadId': '1987fb2e35c30e67'}, {'id': '1987fb1625509e43', 'threadId': '1987fb1625509e43'}, {'id': '1987f9a483702e8c', 'threadId': '1987f9a483702e8c'}, {'id': '1987f7038ea63c8c', 'threadId': '1987f7038ea63c8c'}, {'id': '1987f60fb2227ea4', 'threadId': '1987f60fb2227ea4'}, {'id': '1987f3d518856c60', 'threadId': '1987f3bd0c020c0a'}, {'id': '1987f3bd0c020c0a', 'threadId': '1987f3bd0c020c0a'}, {'id': '1987f2120f25f388', 'threadId': '1987f2120f25f388'}, {'id': '1987ef436de1e71d', 'threadId': '1987ef436de1e71d'}, {'id': '1987ef325add630c', 'threadId': '1987ef325add630c'}, {'id': '1987ef07efce59ec', 'threadId': '1987ef07efce59ec'}, {'id': '1987ee94a50a5654', 'threadId': '1987ee94a50a5654'}, {'id': '1987edeb299df659', 'threadId': '1987edeb299df659'}, {'id': '1987e9118c273856', 'threadId': '1987e9118c273856'}, {'id': '1987e723314d492f', 'threadId': '1987e723314d492f'}, {'id': '1987e5c821980337', 'threadId': '1987e5c821980337'}, {'id': '1987e5c4a4e0a24a', 'threadId': '1987e5c4a4e0a24a'}, {'id': '1987e59aba4dd282', 'threadId': '1987e59aba4dd282'}, {'id': '1987e31caecc3d16', 'threadId': '1987e31caecc3d16'}, {'id': '1987e05862463e30', 'threadId': '1987e05862463e30'}, {'id': '1987e0506cc99490', 'threadId': '1987e0506cc99490'}, {'id': '1987e0312f2e1afc', 'threadId': '1987e0312f2e1afc'}, {'id': '1987e0236620bfff', 'threadId': '1987e0236620bfff'}, {'id': '1987dc66f0612b4d', 'threadId': '1987dc669c125be1'}, {'id': '1987d95e3d20f04a', 'threadId': '1987d95e3d20f04a'}, {'id': '1987d8a99ea5d5b4', 'threadId': '1987d8a99ea5d5b4'}, {'id': '1987d57c2c3cd914', 'threadId': '1987d57c2c3cd914'}, {'id': '1987cd16db01e506', 'threadId': '1987cd16db01e506'}, {'id': '1987cc2144934ba6', 'threadId': '1987cc2144934ba6'}], [{'id': '1988a2e101cc3532', 'threadId': '1988a2e101cc3532'}, {'id': '1988a27d97b70eb9', 'threadId': '1988a27d97b70eb9'}, {'id': '19889e74de4d2b6e', 'threadId': '19889e74de4d2b6e'}, {'id': '19889e5afc935b54', 'threadId': '19889e5afc935b54'}, {'id': '19889da9160a50ec', 'threadId': '19889da880803c31'}, {'id': '19889da880803c31', 'threadId': '19889da880803c31'}, {'id': '198898f752a16564', 'threadId': '198898f752a16564'}, {'id': '19889668cd591f5d', 'threadId': '19889668cd591f5d'}, {'id': '1988956b3768d400', 'threadId': '1988956b3768d400'}, {'id': '198890b4e2a2360e', 'threadId': '198890b4e2a2360e'}, {'id': '198890aa0ae23914', 'threadId': '198890aa0ae23914'}, {'id': '1988906c0131492d', 'threadId': '1988906c0131492d'}, {'id': '19888a98ef939b9c', 'threadId': '19888a98ef939b9c'}, {'id': '1988883dd0cf479e', 'threadId': '1988883dd0cf479e'}, {'id': '198887c94db4e2ee', 'threadId': '198887c94db4e2ee'}, {'id': '198886777a55b2af', 'threadId': '198886777a55b2af'}, {'id': '198884f9f55700ff', 'threadId': '198884f9f55700ff'}, {'id': '198883c73802d73b', 'threadId': '198883c73802d73b'}, {'id': '1988838aedce6356', 'threadId': '1988838aedce6356'}, {'id': '19888285735fb68f', 'threadId': '19888285735fb68f'}, {'id': '19887e1fb0ff9223', 'threadId': '19887e1fb0ff9223'}, {'id': '19887ca78ef93b6e', 'threadId': '19887ca78ef93b6e'}, {'id': '19887ac7ff47082a', 'threadId': '19887ac7ff47082a'}], [{'id': '198955bca8380f5b', 'threadId': '198955bca8380f5b'}, {'id': '19895416567116f1', 'threadId': '19895416567116f1'}, {'id': '198944a5013667f4', 'threadId': '198944a5013667f4'}, {'id': '1989446eae4d7808', 'threadId': '1989446eae4d7808'}, {'id': '1989415b78c5d9e7', 'threadId': '1989415b78c5d9e7'}, {'id': '1989412cd74ef8d0', 'threadId': '1989412cd74ef8d0'}, {'id': '19893eee5455a576', 'threadId': '19893eee5455a576'}, {'id': '19893afac43cb23b', 'threadId': '19893afac43cb23b'}, {'id': '1989356d9cc30f18', 'threadId': '1989356d9cc30f18'}, {'id': '19893547e3762945', 'threadId': '19893547e3762945'}, {'id': '1989351fd7dfcefd', 'threadId': '1989351fd7dfcefd'}, {'id': '198930b15014dfa4', 'threadId': '198930b15014dfa4'}, {'id': '19892f6b767a1260', 'threadId': '19892f6b767a1260'}, {'id': '19892aea0c28f127', 'threadId': '19892aea0c28f127'}, {'id': '19892a86c26c69b8', 'threadId': '19892a86c26c69b8'}, {'id': '198929c65ed9f086', 'threadId': '198929c65ed9f086'}, {'id': '198922ea7f09ba66', 'threadId': '198922ea7f09ba66'}, {'id': '19892224a687abb6', 'threadId': '19892224a687abb6'}], [{'id': '1989a03130a090e5', 'threadId': '1989a03130a090e5'}, {'id': '19899939d9d6ff73', 'threadId': '19899939d9d6ff73'}, {'id': '198998ec7901142a', 'threadId': '198998ec7901142a'}, {'id': '198998dd771590d1', 'threadId': '198998dd771590d1'}, {'id': '198998a7d9f51aa8', 'threadId': '198998a7d9f51aa8'}, {'id': '198994681113d682', 'threadId': '198994681113d682'}, {'id': '1989943a49b3ccfa', 'threadId': '1989943a49b3ccfa'}, {'id': '198993660b366a69', 'threadId': '198993660b366a69'}, {'id': '1989929996d8e8ec', 'threadId': '1989929996d8e8ec'}, {'id': '19898f8fcf3e10af', 'threadId': '19898f8fcf3e10af'}, {'id': '19898d8127ad982a', 'threadId': '19898d8127ad982a'}, {'id': '198987cb1204b0d2', 'threadId': '198987cb1204b0d2'}, {'id': '198987bf0f30decb', 'threadId': '198987bf0f30decb'}, {'id': '1989878d5403bbee', 'threadId': '1989878d5403bbee'}, {'id': '198985b6e91ba945', 'threadId': '198985b6e91ba945'}, {'id': '1989831158e6f39d', 'threadId': '1989831158e6f39d'}, {'id': '198981d30571ec49', 'threadId': '198981d30571ec49'}, {'id': '19897c2bf00609a7', 'threadId': '19897c2bf00609a7'}, {'id': '198979a9f16ee928', 'threadId': '198979a9f16ee928'}, {'id': '1989796b4589052e', 'threadId': '1989796b4589052e'}, {'id': '1989793f2a03c39e', 'threadId': '1989793f2a03c39e'}, {'id': '1989783f36987033', 'threadId': '1989783f36987033'}, {'id': '198977288089f4b9', 'threadId': '198977288089f4b9'}, {'id': '19897662a841aedd', 'threadId': '19897662a841aedd'}, {'id': '1989755bc0bc9f53', 'threadId': '1989755bc0bc9f53'}, {'id': '19897479d33ee0c0', 'threadId': '19897479d33ee0c0'}, {'id': '198972dcfda0c080', 'threadId': '198972dcfda0c080'}, {'id': '1989713a8b81feb3', 'threadId': '1989713a8b81feb3'}, {'id': '19896c03ff1ebfc4', 'threadId': '19896c03ff1ebfc4'}]]\n"
     ]
    }
   ],
   "source": [
    "print(l)"
   ]
  },
  {
   "cell_type": "code",
   "execution_count": 13,
   "id": "8d9cb0ea",
   "metadata": {},
   "outputs": [],
   "source": [
    "from utils import extract_headers, decode_body"
   ]
  },
  {
   "cell_type": "code",
   "execution_count": 15,
   "id": "c83192f0",
   "metadata": {},
   "outputs": [],
   "source": [
    "# import json\n",
    "# d={}\n",
    "# for msg in messages:\n",
    "#     msg_data = service.users().messages().get(userId=\"me\", id=msg[\"id\"], format=\"full\").execute()\n",
    "\n",
    "#     # payload = msg_data.get(\"payload\", {})\n",
    "#     # subject, sender = extract_headers(payload)\n",
    "#     # body_text = decode_body(payload, prefer_plain=True).strip()\n",
    "\n",
    "#     # print(f\"\\n--- Email ---\")\n",
    "#     # print(f\"From: {sender}\")\n",
    "#     # print(f\"Subject: {subject}\")\n",
    "#     # print(f\"Body:\\n{body_text}\")\n",
    "#     d[msg[\"id\"]] = msg_data\n",
    "\n",
    "# with open(f\"email.json\", \"w\") as f:\n",
    "#     json.dump(d, f)\n"
   ]
  },
  {
   "cell_type": "code",
   "execution_count": 16,
   "id": "ea581bdf",
   "metadata": {},
   "outputs": [
    {
     "name": "stdout",
     "output_type": "stream",
     "text": [
      "Size in MB: 0.00011444091796875\n"
     ]
    }
   ],
   "source": [
    "import sys\n",
    "\n",
    "size_in_bytes=sys.getsizeof(l)\n",
    "\n",
    "size_in_mb=size_in_bytes / (1024 * 1024)\n",
    "print(f\"Size in MB: {size_in_mb}\")"
   ]
  },
  {
   "cell_type": "code",
   "execution_count": null,
   "id": "3a53d784",
   "metadata": {},
   "outputs": [
    {
     "data": {
      "text/plain": [
       "7"
      ]
     },
     "execution_count": 28,
     "metadata": {},
     "output_type": "execute_result"
    }
   ],
   "source": [
    "len(l)"
   ]
  },
  {
   "cell_type": "code",
   "execution_count": null,
   "id": "4c1da765",
   "metadata": {},
   "outputs": [],
   "source": []
  }
 ],
 "metadata": {
  "kernelspec": {
   "display_name": "airflow-docker",
   "language": "python",
   "name": "python3"
  },
  "language_info": {
   "codemirror_mode": {
    "name": "ipython",
    "version": 3
   },
   "file_extension": ".py",
   "mimetype": "text/x-python",
   "name": "python",
   "nbconvert_exporter": "python",
   "pygments_lexer": "ipython3",
   "version": "3.12.11"
  }
 },
 "nbformat": 4,
 "nbformat_minor": 5
}

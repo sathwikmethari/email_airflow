{
 "cells": [
  {
   "cell_type": "code",
   "execution_count": 1,
   "id": "74d80f98",
   "metadata": {},
   "outputs": [],
   "source": [
    "import os, datetime\n",
    "from imapclient import IMAPClient\n",
    "from utils import *\n",
    "from dotenv import load_dotenv\n",
    "load_dotenv()\n",
    "\n",
    "USERNAME = os.getenv(\"user\")\n",
    "PASSWORD = os.getenv(\"pass\")"
   ]
  },
  {
   "cell_type": "code",
   "execution_count": 2,
   "id": "ba6a59de",
   "metadata": {},
   "outputs": [
    {
     "name": "stdout",
     "output_type": "stream",
     "text": [
      "6862 messages in INBOX\n"
     ]
    }
   ],
   "source": [
    "server = IMAPClient('imap.gmail.com', use_uid=True)\n",
    "server.login(USERNAME, PASSWORD)\n",
    "select_info = server.select_folder('INBOX')\n",
    "print('%d messages in INBOX' % select_info[b'EXISTS'])"
   ]
  },
  {
   "cell_type": "code",
   "execution_count": 3,
   "id": "b01651c6",
   "metadata": {},
   "outputs": [
    {
     "name": "stdout",
     "output_type": "stream",
     "text": [
      "[16929, 16930, 16931, 16932, 16933]\n"
     ]
    }
   ],
   "source": [
    "list_of_ids = get_ids(server=server, from_date=datetime.date(2025, 8, 6)) #year,month,day\n",
    "print(list_of_ids[:5])"
   ]
  },
  {
   "cell_type": "code",
   "execution_count": 4,
   "id": "e977dbff",
   "metadata": {},
   "outputs": [
    {
     "name": "stdout",
     "output_type": "stream",
     "text": [
      "Sender Name: LinkedIn\n",
      "Sender Email: linkedin@e.linkedin.com\n"
     ]
    }
   ],
   "source": [
    "name, email_addr, body = get_msg_data(server, list_of_ids)\n",
    "\n",
    "# Print the result\n",
    "print(\"Sender Name:\", name)\n",
    "print(\"Sender Email:\", email_addr)\n",
    "#print(\"Body:\\n\", body)"
   ]
  },
  {
   "cell_type": "code",
   "execution_count": null,
   "id": "b1decdf1",
   "metadata": {},
   "outputs": [],
   "source": [
    "import re\n",
    "\n",
    "def has_html(text):\n",
    "    return bool(re.search(r'<[a-z/][^>]*>', text, re.IGNORECASE))\n",
    "\n",
    "# Example usage:\n",
    "print(has_html(body)) # True\n",
    "print(has_html(\"This is a plain string.\")) # False"
   ]
  },
  {
   "cell_type": "code",
   "execution_count": null,
   "id": "ca299184",
   "metadata": {},
   "outputs": [],
   "source": [
    "import sys\n",
    "size_in_bytes=sys.getsizeof(body)\n",
    "\n",
    "size_in_mb=size_in_bytes / (1024 * 1024)\n",
    "print(f\"Size in MB: {size_in_mb}\")"
   ]
  },
  {
   "cell_type": "code",
   "execution_count": null,
   "id": "915cda68",
   "metadata": {},
   "outputs": [],
   "source": []
  }
 ],
 "metadata": {
  "kernelspec": {
   "display_name": "airflow-docker",
   "language": "python",
   "name": "python3"
  },
  "language_info": {
   "codemirror_mode": {
    "name": "ipython",
    "version": 3
   },
   "file_extension": ".py",
   "mimetype": "text/x-python",
   "name": "python",
   "nbconvert_exporter": "python",
   "pygments_lexer": "ipython3",
   "version": "3.12.11"
  }
 },
 "nbformat": 4,
 "nbformat_minor": 5
}

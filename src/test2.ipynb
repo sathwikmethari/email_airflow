{
 "cells": [
  {
   "cell_type": "code",
   "execution_count": 122,
   "id": "74d80f98",
   "metadata": {},
   "outputs": [],
   "source": [
    "import os, datetime\n",
    "from imapclient import IMAPClient\n",
    "from utils import *\n",
    "from dotenv import load_dotenv\n",
    "load_dotenv()\n",
    "\n",
    "USERNAME = os.getenv(\"user\")\n",
    "PASSWORD = os.getenv(\"pass\")"
   ]
  },
  {
   "cell_type": "code",
   "execution_count": 123,
   "id": "ba6a59de",
   "metadata": {},
   "outputs": [
    {
     "name": "stdout",
     "output_type": "stream",
     "text": [
      "6864 messages in INBOX\n"
     ]
    }
   ],
   "source": [
    "server = IMAPClient('imap.gmail.com', ssl=True, use_uid=True)\n",
    "server.login(USERNAME, PASSWORD)\n",
    "select_info = server.select_folder('INBOX')\n",
    "print('%d messages in INBOX' % select_info[b'EXISTS'])"
   ]
  },
  {
   "cell_type": "code",
   "execution_count": 124,
   "id": "b01651c6",
   "metadata": {},
   "outputs": [
    {
     "name": "stdout",
     "output_type": "stream",
     "text": [
      "[16774, 16775, 16776, 16777, 16778]\n"
     ]
    }
   ],
   "source": [
    "list_of_ids = get_ids(server=server, from_date=datetime.date(2025, 8, 1)) #year,month,day\n",
    "server.logout()\n",
    "print(list_of_ids[:5])"
   ]
  },
  {
   "cell_type": "code",
   "execution_count": 129,
   "id": "f8735a01",
   "metadata": {},
   "outputs": [],
   "source": [
    "from concurrent.futures import ThreadPoolExecutor\n",
    "\n",
    "def fetch_batch(ids):\n",
    "    with IMAPClient('imap.gmail.com', ssl=True) as server:\n",
    "        server.login(USERNAME, PASSWORD)\n",
    "        server.select_folder('INBOX')\n",
    "        msg_data = server.fetch(ids, ['RFC822', 'ENVELOPE'])\n",
    "        server.logout()\n",
    "        return msg_data\n",
    "batch_size = 10\n",
    "id_chunks = [list_of_ids[i:i+batch_size] for i in range(0, len(list_of_ids), batch_size)]"
   ]
  },
  {
   "cell_type": "code",
   "execution_count": 130,
   "id": "1c0de12b",
   "metadata": {},
   "outputs": [],
   "source": [
    "with ThreadPoolExecutor(max_workers=5) as executor:\n",
    "    results = list(executor.map(fetch_batch, id_chunks))\n",
    "\n",
    "    # Combine all results\n",
    "#final_result = {k: v for batch in results for k, v in batch.items()}"
   ]
  },
  {
   "cell_type": "code",
   "execution_count": 63,
   "id": "1e75ce4a",
   "metadata": {},
   "outputs": [],
   "source": [
    "#msg_id = list_of_ids[:2]\n",
    "msg_data = server.fetch(list_of_ids, ['RFC822', 'ENVELOPE'])"
   ]
  },
  {
   "cell_type": "code",
   "execution_count": 64,
   "id": "3d22c957",
   "metadata": {},
   "outputs": [],
   "source": [
    "msg_id = msg_data[list_of_ids[1]][b'SEQ']\n",
    "raw_email = msg_data[list_of_ids[1]][b'RFC822']\n",
    "envelope = msg_data[list_of_ids[1]][b'ENVELOPE']\n",
    "\n",
    "#print(msg_data[list_of_ids[1]].keys()) ====>> dict_keys([b'SEQ', b'RFC822', b'ENVELOPE'])"
   ]
  },
  {
   "cell_type": "code",
   "execution_count": 65,
   "id": "e977dbff",
   "metadata": {},
   "outputs": [
    {
     "name": "stdout",
     "output_type": "stream",
     "text": [
      "Sender Name: Kaggle\n",
      "Sender Email: no-reply@kaggle.com\n"
     ]
    }
   ],
   "source": [
    "sender, name, email_addr, body = get_msg_data(server, list_of_ids)\n",
    "\n",
    "# Print the result\n",
    "print(\"Sender Name:\", name)\n",
    "print(\"Sender Email:\", email_addr)\n",
    "#print(\"Body:\\n\", body)"
   ]
  },
  {
   "cell_type": "code",
   "execution_count": 66,
   "id": "0cdef4ad",
   "metadata": {},
   "outputs": [
    {
     "data": {
      "text/plain": [
       "Envelope(date=datetime.datetime(2025, 8, 7, 4, 54, 47), subject=b'Competition Launch: NeurIPS 2025 - Google Code Golf Championship', from_=(Address(name=b'Kaggle', route=None, mailbox=b'no-reply', host=b'kaggle.com'),), sender=(Address(name=b'Kaggle', route=None, mailbox=b'no-reply', host=b'kaggle.com'),), reply_to=(Address(name=b'Kaggle', route=None, mailbox=b'no-reply', host=b'kaggle.com'),), to=(Address(name=None, route=None, mailbox=b'sathwikmethari', host=b'gmail.com'),), cc=None, bcc=None, in_reply_to=None, message_id=b'<4af014169424efa8b29b4806d849e89660d20848-20364489-111676857@google.com>')"
      ]
     },
     "execution_count": 66,
     "metadata": {},
     "output_type": "execute_result"
    }
   ],
   "source": [
    "sender"
   ]
  },
  {
   "cell_type": "code",
   "execution_count": 67,
   "id": "b1decdf1",
   "metadata": {},
   "outputs": [
    {
     "name": "stdout",
     "output_type": "stream",
     "text": [
      "False\n",
      "False\n"
     ]
    }
   ],
   "source": [
    "import re\n",
    "\n",
    "def has_html(text):\n",
    "    return bool(re.search(r'<[a-z/][^>]*>', text, re.IGNORECASE))\n",
    "\n",
    "# Example usage:\n",
    "print(has_html(body)) # True\n",
    "print(has_html(\"This is a plain string.\")) # False"
   ]
  },
  {
   "cell_type": "code",
   "execution_count": 68,
   "id": "ca299184",
   "metadata": {},
   "outputs": [
    {
     "name": "stdout",
     "output_type": "stream",
     "text": [
      "Size in MB: 0.04775714874267578\n"
     ]
    }
   ],
   "source": [
    "import sys\n",
    "size_in_bytes=sys.getsizeof(raw_email)\n",
    "\n",
    "size_in_mb=size_in_bytes / (1024 * 1024)\n",
    "print(f\"Size in MB: {size_in_mb}\")"
   ]
  },
  {
   "cell_type": "code",
   "execution_count": 69,
   "id": "915cda68",
   "metadata": {},
   "outputs": [],
   "source": [
    "import pandas as pd"
   ]
  },
  {
   "cell_type": "code",
   "execution_count": 79,
   "id": "cf86ec5f",
   "metadata": {},
   "outputs": [],
   "source": [
    "df = pd.DataFrame(msg_data)\n",
    "df=df.T\n",
    "#df.to_csv(output_file, index=False)"
   ]
  },
  {
   "cell_type": "code",
   "execution_count": 80,
   "id": "733100ec",
   "metadata": {},
   "outputs": [
    {
     "data": {
      "text/html": [
       "<div>\n",
       "<style scoped>\n",
       "    .dataframe tbody tr th:only-of-type {\n",
       "        vertical-align: middle;\n",
       "    }\n",
       "\n",
       "    .dataframe tbody tr th {\n",
       "        vertical-align: top;\n",
       "    }\n",
       "\n",
       "    .dataframe thead th {\n",
       "        text-align: right;\n",
       "    }\n",
       "</style>\n",
       "<table border=\"1\" class=\"dataframe\">\n",
       "  <thead>\n",
       "    <tr style=\"text-align: right;\">\n",
       "      <th></th>\n",
       "      <th>b'SEQ'</th>\n",
       "      <th>b'RFC822'</th>\n",
       "      <th>b'ENVELOPE'</th>\n",
       "    </tr>\n",
       "  </thead>\n",
       "  <tbody>\n",
       "    <tr>\n",
       "      <th>16774</th>\n",
       "      <td>6665</td>\n",
       "      <td>b'Delivered-To: sathwikmethari@gmail.com\\r\\nRe...</td>\n",
       "      <td>Envelope(date=datetime.datetime(2025, 8, 1, 1,...</td>\n",
       "    </tr>\n",
       "    <tr>\n",
       "      <th>16775</th>\n",
       "      <td>6666</td>\n",
       "      <td>b'Delivered-To: sathwikmethari@gmail.com\\r\\nRe...</td>\n",
       "      <td>Envelope(date=datetime.datetime(2025, 8, 1, 1,...</td>\n",
       "    </tr>\n",
       "    <tr>\n",
       "      <th>16776</th>\n",
       "      <td>6667</td>\n",
       "      <td>b'Delivered-To: sathwikmethari@gmail.com\\r\\nRe...</td>\n",
       "      <td>Envelope(date=datetime.datetime(2025, 8, 1, 3,...</td>\n",
       "    </tr>\n",
       "    <tr>\n",
       "      <th>16777</th>\n",
       "      <td>6668</td>\n",
       "      <td>b'Delivered-To: sathwikmethari@gmail.com\\r\\nRe...</td>\n",
       "      <td>Envelope(date=datetime.datetime(2025, 8, 1, 5,...</td>\n",
       "    </tr>\n",
       "    <tr>\n",
       "      <th>16778</th>\n",
       "      <td>6669</td>\n",
       "      <td>b\"Delivered-To: sathwikmethari@gmail.com\\r\\nRe...</td>\n",
       "      <td>Envelope(date=datetime.datetime(2025, 8, 1, 9,...</td>\n",
       "    </tr>\n",
       "  </tbody>\n",
       "</table>\n",
       "</div>"
      ],
      "text/plain": [
       "      b'SEQ'                                          b'RFC822'  \\\n",
       "16774   6665  b'Delivered-To: sathwikmethari@gmail.com\\r\\nRe...   \n",
       "16775   6666  b'Delivered-To: sathwikmethari@gmail.com\\r\\nRe...   \n",
       "16776   6667  b'Delivered-To: sathwikmethari@gmail.com\\r\\nRe...   \n",
       "16777   6668  b'Delivered-To: sathwikmethari@gmail.com\\r\\nRe...   \n",
       "16778   6669  b\"Delivered-To: sathwikmethari@gmail.com\\r\\nRe...   \n",
       "\n",
       "                                             b'ENVELOPE'  \n",
       "16774  Envelope(date=datetime.datetime(2025, 8, 1, 1,...  \n",
       "16775  Envelope(date=datetime.datetime(2025, 8, 1, 1,...  \n",
       "16776  Envelope(date=datetime.datetime(2025, 8, 1, 3,...  \n",
       "16777  Envelope(date=datetime.datetime(2025, 8, 1, 5,...  \n",
       "16778  Envelope(date=datetime.datetime(2025, 8, 1, 9,...  "
      ]
     },
     "execution_count": 80,
     "metadata": {},
     "output_type": "execute_result"
    }
   ],
   "source": [
    "df.head()"
   ]
  },
  {
   "cell_type": "code",
   "execution_count": 72,
   "id": "8022b69a",
   "metadata": {},
   "outputs": [],
   "source": [
    "r,c =df.shape"
   ]
  },
  {
   "cell_type": "code",
   "execution_count": 73,
   "id": "6206c585",
   "metadata": {},
   "outputs": [
    {
     "data": {
      "text/plain": [
       "3"
      ]
     },
     "execution_count": 73,
     "metadata": {},
     "output_type": "execute_result"
    }
   ],
   "source": [
    "c"
   ]
  },
  {
   "cell_type": "code",
   "execution_count": null,
   "id": "6aef7dbe",
   "metadata": {},
   "outputs": [],
   "source": []
  }
 ],
 "metadata": {
  "kernelspec": {
   "display_name": "airflow-docker",
   "language": "python",
   "name": "python3"
  },
  "language_info": {
   "codemirror_mode": {
    "name": "ipython",
    "version": 3
   },
   "file_extension": ".py",
   "mimetype": "text/x-python",
   "name": "python",
   "nbconvert_exporter": "python",
   "pygments_lexer": "ipython3",
   "version": "3.12.11"
  }
 },
 "nbformat": 4,
 "nbformat_minor": 5
}

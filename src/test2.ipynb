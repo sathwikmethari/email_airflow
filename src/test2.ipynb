{
 "cells": [
  {
   "cell_type": "code",
   "execution_count": 13,
   "id": "74d80f98",
   "metadata": {},
   "outputs": [],
   "source": [
    "import os, datetime, collections\n",
    "from typing import Union, Dict\n",
    "import pandas as pd\n",
    "from imapclient import IMAPClient\n",
    "from utils import *\n",
    "from dotenv import load_dotenv\n",
    "load_dotenv()\n",
    "\n",
    "email = os.getenv(\"user\")\n",
    "password = os.getenv(\"pass\")"
   ]
  },
  {
   "cell_type": "code",
   "execution_count": 14,
   "id": "b01651c6",
   "metadata": {},
   "outputs": [
    {
     "name": "stdout",
     "output_type": "stream",
     "text": [
      "219\n"
     ]
    }
   ],
   "source": [
    "list_of_ids = get_ids(email, password, datetime.date(2025, 8, 1)) #year,month,day\n",
    "print(len(list_of_ids))"
   ]
  },
  {
   "cell_type": "code",
   "execution_count": 15,
   "id": "f8735a01",
   "metadata": {},
   "outputs": [],
   "source": [
    "from concurrent.futures import ThreadPoolExecutor\n",
    "\n",
    "def fetch_batch(ids):\n",
    "    with IMAPClient('imap.gmail.com', ssl=True) as server:\n",
    "        server.login(email, password)\n",
    "        server.select_folder('INBOX')\n",
    "        msg_data = server.fetch(ids, ['RFC822', 'ENVELOPE'])\n",
    "        return msg_data\n"
   ]
  },
  {
   "cell_type": "code",
   "execution_count": 16,
   "id": "1c0de12b",
   "metadata": {},
   "outputs": [],
   "source": [
    "def get_mail_data(list_of_ids : list[int]) -> list:\n",
    "    batch_size = 50\n",
    "    id_chunks = [list_of_ids[i:i+batch_size] for i in range(0, len(list_of_ids), batch_size)]\n",
    "    with ThreadPoolExecutor(max_workers=7) as executor:\n",
    "        results = list(executor.map(fetch_batch, id_chunks))\n",
    "    return results\n",
    "\n",
    "results = get_mail_data(list_of_ids=list_of_ids)"
   ]
  },
  {
   "cell_type": "code",
   "execution_count": 17,
   "id": "52b7ae10",
   "metadata": {},
   "outputs": [],
   "source": [
    "def make_a_df(results : list[collections.defaultdict[int, Dict[bytes, Union[int, bytes, tuple, imapclient.response_types.Envelope ]]]]) -> pd.core.frame.DataFrame:\n",
    "    \n",
    "    out_dict=collections.defaultdict(list) #dict to store the relevant information\n",
    "    \n",
    "    for ele in results:         #results ===> list of dicts containing ids as keys, dicts of info as values.\n",
    "        for x, y in ele.items(): #ele.items() ==> iterable(id of class str, info of class dict)\n",
    "            out_dict['ids'].append(x)\n",
    "            out_dict['RFC822'].append(y[b'RFC822'])\n",
    "            out_dict['ENVELOPE'].append(y[b'ENVELOPE'])\n",
    "    \n",
    "    return pd.DataFrame(out_dict) "
   ]
  },
  {
   "cell_type": "code",
   "execution_count": 18,
   "id": "c8655333",
   "metadata": {},
   "outputs": [],
   "source": [
    "out=make_a_df(results)\n",
    "#out.head(2)"
   ]
  },
  {
   "cell_type": "code",
   "execution_count": 19,
   "id": "ca299184",
   "metadata": {},
   "outputs": [
    {
     "name": "stdout",
     "output_type": "stream",
     "text": [
      "Size in MB: 19.256539344787598\n"
     ]
    }
   ],
   "source": [
    "import sys\n",
    "size_in_bytes=sys.getsizeof(out)\n",
    "\n",
    "size_in_mb=size_in_bytes / (1024 * 1024)\n",
    "print(f\"Size in MB: {size_in_mb}\")"
   ]
  }
 ],
 "metadata": {
  "kernelspec": {
   "display_name": "airflow-docker",
   "language": "python",
   "name": "python3"
  },
  "language_info": {
   "codemirror_mode": {
    "name": "ipython",
    "version": 3
   },
   "file_extension": ".py",
   "mimetype": "text/x-python",
   "name": "python",
   "nbconvert_exporter": "python",
   "pygments_lexer": "ipython3",
   "version": "3.12.11"
  }
 },
 "nbformat": 4,
 "nbformat_minor": 5
}

{
 "cells": [
  {
   "cell_type": "code",
   "execution_count": 132,
   "id": "74d80f98",
   "metadata": {},
   "outputs": [],
   "source": [
    "import os, email\n",
    "from imapclient.response_types import Address\n",
    "import email\n",
    "from email.header import decode_header, make_header\n",
    "from datetime import date\n",
    "from imapclient import IMAPClient\n",
    "from email.header import decode_header\n",
    "from email import message_from_bytes\n",
    "from datetime import datetime\n",
    "from dotenv import load_dotenv\n",
    "load_dotenv()\n",
    "\n",
    "USERNAME = os.getenv(\"user\")\n",
    "PASSWORD = os.getenv(\"pass\")"
   ]
  },
  {
   "cell_type": "code",
   "execution_count": 133,
   "id": "4c344fa6",
   "metadata": {},
   "outputs": [
    {
     "name": "stdout",
     "output_type": "stream",
     "text": [
      "6852 messages in INBOX\n"
     ]
    }
   ],
   "source": [
    "server = IMAPClient('imap.gmail.com', use_uid=True)\n",
    "\n",
    "server.login(USERNAME, PASSWORD)\n",
    "select_info = server.select_folder('INBOX')\n",
    "print('%d messages in INBOX' % select_info[b'EXISTS'])"
   ]
  },
  {
   "cell_type": "code",
   "execution_count": 134,
   "id": "d539cdaf",
   "metadata": {},
   "outputs": [],
   "source": [
    "l=server.search(criteria=[u'SINCE', date(2025, 8, 6)])     #year,month,day\n",
    "#l=server.search(criteria=b'SINCE 06-Aug-2025')"
   ]
  },
  {
   "cell_type": "code",
   "execution_count": 135,
   "id": "a0ab1803",
   "metadata": {},
   "outputs": [],
   "source": [
    "#https://imapclient.readthedocs.io/en/3.0.0/api.html#imapclient.response_types.Envelope    \n",
    "# for msgid, data in server.fetch(l[-3], ['BODYDATA']).items():\n",
    "#     envelope = data[b'BODYDATA']\n",
    "#     print(data)\n",
    "    #name=envelope.sender[0].name.decode()\n",
    "    #cur_email = f\"{envelope.sender[0].mailbox.decode()}@{envelope.sender[0].host.decode()}\"#envelope.sender[0].mailbox.decode()+'@'+\n",
    "    #print('ID %d: \"%s\" received %s' % (msgid, envelope.subject.decode(), envelope.date))"
   ]
  },
  {
   "cell_type": "code",
   "execution_count": 136,
   "id": "b0399c1a",
   "metadata": {},
   "outputs": [],
   "source": [
    "def parse_email_address(addr: Address):\n",
    "    if not addr:\n",
    "        return None, None\n",
    "    name = addr.name.decode() if addr.name else None\n",
    "    email_addr = f\"{addr.mailbox.decode()}@{addr.host.decode()}\" if addr.mailbox and addr.host else None\n",
    "    return name, email_addr"
   ]
  },
  {
   "cell_type": "code",
   "execution_count": 137,
   "id": "e645cc2f",
   "metadata": {},
   "outputs": [
    {
     "name": "stdout",
     "output_type": "stream",
     "text": [
      "Sender Name: Microsoft Azure Team\n",
      "Sender Email: azure@email.microsoft.com\n",
      "Body:\n",
      " Explore best practices, use cases and solutions to help you get started.\n",
      "\n",
      "Having trouble viewing this email? | View as a web page <[[https://emails.microsoft.com/v/MTU3LUdRRS0zODIAAAGcHuf6ez6pai3geq3pKTl6DFth--yD4YVudAbwjBeJlPqPn7ECWJFohg39ukb8zHyHxbci13o=]]>\n",
      "\n",
      "<[[https://azure.microsoft.com]]>\n",
      "Lead your team to AI innovation with resources from Azure  \n",
      "\n",
      "\n",
      " Discover the latest innovations in cloud and AI, advance your generative AI efforts and confidently lead your organisation to long-term success – by accessing the latest resources from Azure.\n",
      "Customizing generative AI for unique value\n",
      "\n",
      "Learn how global leaders are using AI to drive value in this report from Microsoft and MIT Technology Review Insights – and discover ways to customise your own solutions.\n",
      "\n",
      "Read the report <https://emails.microsoft.com/dc/pTEFlGZ9Q3ITrVt7_I2wJfSaXP4fVmu5GQerBk9DuUsq46jcuZX_ffRpaPr5IjSLrH4T195L07qohAiEBW0ylA==/MTU3LUdRRS0zODIAAAGcHuf6ey-sCMi3y7NZAwqM7sAnxcWMNEi5wfxjPJfu__tZbfLZs3J2avti5ABV3aa46gnQIQM=>\n",
      "\n",
      "\n",
      "Four use cases for building custom AI applications\n",
      "\n",
      "See how top brands like Mercedes-Benz, Vodafone, Siemens and Mercy use tailored AI solutions to drive innovation, boost productivity and foster better decision-making.\n",
      "\n",
      "Read the report <https://emails.microsoft.com/dc/pTEFlGZ9Q3ITrVt7_I2wJfSaXP4fVmu5GQerBk9DuUs-cSNfR_Uef89iCRtUI4--02E09jagIGIK9M2roLjwRg==/MTU3LUdRRS0zODIAAAGcHuf6ey-sCMi3y7NZAwqM7sAnxcWMNEi5wfxjPJfu__tZbfLZs3J2avti5ABV3aa46gnQIQM=>\n",
      "\n",
      "\n",
      "In an AI-driven world, data is everything\n",
      "\n",
      "Discover why an intelligent data strategy is essential for building a secure foundation for AI – and learn how to transform your data into a competitive advantage.\n",
      "\n",
      "Read the infographic <https://emails.microsoft.com/dc/pTEFlGZ9Q3ITrVt7_I2wJfSaXP4fVmu5GQerBk9DuUvZrc6XLybADbzb-6aaKvAwipblE1zJ0jnboCcGU8cdqQ==/MTU3LUdRRS0zODIAAAGcHuf6ey-sCMi3y7NZAwqM7sAnxcWMNEi5wfxjPJfu__tZbfLZs3J2avti5ABV3aa46gnQIQM=>\n",
      "Facebook <https://emails.microsoft.com/dc/uq3EykqQY7h0Yyhe2BWhMA54Y81E5aWaEXPp8hxWpKjq9dMvK3o5pSaej725LW-D/MTU3LUdRRS0zODIAAAGcHuf6ey-sCMi3y7NZAwqM7sAnxcWMNEi5wfxjPJfu__tZbfLZs3J2avti5ABV3aa46gnQIQM=>\n",
      "\n",
      "X<https://emails.microsoft.com/dc/u8oZOJAd-CVEcjoxZLybYz3sYyfSWi5Zi3JkhOwS8NuMMUVj-WozuLBFZvK9RF-B/MTU3LUdRRS0zODIAAAGcHuf6ey-sCMi3y7NZAwqM7sAnxcWMNEi5wfxjPJfu__tZbfLZs3J2avti5ABV3aa46gnQIQM=>\n",
      "\n",
      "YouTube <https://emails.microsoft.com/dc/M9Y3nowLDCcEv8uSbJAkaS8jXnpz8EOJlYKmt8qLKRSwTSHjRrrwa6GDShJfu5zs/MTU3LUdRRS0zODIAAAGcHuf6ey-sCMi3y7NZAwqM7sAnxcWMNEi5wfxjPJfu__tZbfLZs3J2avti5ABV3aa46gnQIQM=>\n",
      "\n",
      "LinkedIn <https://emails.microsoft.com/dc/fG5-PlwEnZR-IoSdwCtjIpTVr9AsJHNwc_srhy7U9rXQHbFSwJIYiPgCEE2-LTR4/MTU3LUdRRS0zODIAAAGcHuf6ey-sCMi3y7NZAwqM7sAnxcWMNEi5wfxjPJfu__tZbfLZs3J2avti5ABV3aa46gnQIQM=>\n",
      "\n",
      "Instagram <https://emails.microsoft.com/dc/WhZcq50CsoLLiaLsfDq43sVHzOlvTnpzPaSuzdE5W2pYlNXVnFtFcepu8J29jJdu/MTU3LUdRRS0zODIAAAGcHuf6ey-sCMi3y7NZAwqM7sAnxcWMNEi5wfxjPJfu__tZbfLZs3J2avti5ABV3aa46gnQIQM=>\n",
      "\n",
      "Pinterest <https://emails.microsoft.com/dc/0pJJ_y_ObF2UmNML1anXIuFIYrydk_UT6rms6XDaCoWqCmZpyxriGWtWZVVDXOmP/MTU3LUdRRS0zODIAAAGcHuf6ey-sCMi3y7NZAwqM7sAnxcWMNEi5wfxjPJfu__tZbfLZs3J2avti5ABV3aa46gnQIQM=>\n",
      "Copyright 2025 Microsoft Corporation.\n",
      "\n",
      "Unsubscribe <[[https://account.microsoft.com/profile/unsubscribe?CTID=0&ECID=lEbM%2B4cqtmchjGZg8CtB7k7gNEvi4X2hq3O8YVLGcIw%3D&K=20412b19-7f56-40e0-bed5-07f443da891f&PID=19122&TID=e8bbc280-76ee-423a-9cc0-e8523bd2542b&CMID=ONEGDC-2295652]]> | Privacy Statement <https://emails.microsoft.com/MTU3LUdRRS0zODIAAAGcHuf6ezX-_udBJ09jJZsxMH1t1Cy444G4wi7dFv3kAFuq7zRsdEKERp4uLZVhBOcWVEZJLyQ=>\n",
      "\n",
      "Microsoft Corporation<br>One Microsoft Way<br>Redmond, WA 98052\n",
      "\n",
      "<https://emails.microsoft.com/MTU3LUdRRS0zODIAAAGcHuf6e2sh__tUrXKVwk87iHANzVZGreE4M1wVgPfC5UR8SGDarKN-286GNd9Qo08VoFHesZg=>\n",
      "\n",
      ".\n",
      "\n"
     ]
    }
   ],
   "source": [
    "for msgid, data in server.fetch(l[-1], ['ENVELOPE', 'BODY[]']).items():\n",
    "    # Extract envelope info\n",
    "    sender = data[b'ENVELOPE'].sender[0]  # type: Address\n",
    "    name, email_addr = parse_email_address(sender)\n",
    "    \n",
    "    # Get raw email and parse body\n",
    "    msg = email.message_from_bytes(data[b'BODY[]'])\n",
    "    # Extract body\n",
    "    if msg.is_multipart():\n",
    "        for part in msg.walk():\n",
    "            content_type = part.get_content_type()\n",
    "            content_disposition = str(part.get(\"Content-Disposition\"))\n",
    "\n",
    "            if \"attachment\" not in content_disposition and content_type == \"text/plain\":\n",
    "                body = part.get_payload(decode=True).decode()\n",
    "                break\n",
    "    else:\n",
    "        # Non-multipart email\n",
    "        charset =msg.get_content_charset()\n",
    "        body = msg.get_payload(decode=True).decode()\n",
    "\n",
    "    # Print the result\n",
    "    print(\"Sender Name:\", name)\n",
    "    print(\"Sender Email:\", email_addr)\n",
    "    print(\"Body:\\n\", body)"
   ]
  },
  {
   "cell_type": "code",
   "execution_count": 138,
   "id": "ca299184",
   "metadata": {},
   "outputs": [
    {
     "name": "stdout",
     "output_type": "stream",
     "text": [
      "Size in MB: 0.00724029541015625\n"
     ]
    }
   ],
   "source": [
    "import sys\n",
    "size_in_bytes=sys.getsizeof(body)\n",
    "\n",
    "size_in_mb=size_in_bytes / (1024 * 1024)\n",
    "print(f\"Size in MB: {size_in_mb}\")"
   ]
  },
  {
   "cell_type": "code",
   "execution_count": null,
   "id": "00bb3ebb",
   "metadata": {},
   "outputs": [],
   "source": []
  }
 ],
 "metadata": {
  "kernelspec": {
   "display_name": "airflow-docker",
   "language": "python",
   "name": "python3"
  },
  "language_info": {
   "codemirror_mode": {
    "name": "ipython",
    "version": 3
   },
   "file_extension": ".py",
   "mimetype": "text/x-python",
   "name": "python",
   "nbconvert_exporter": "python",
   "pygments_lexer": "ipython3",
   "version": "3.12.11"
  }
 },
 "nbformat": 4,
 "nbformat_minor": 5
}
